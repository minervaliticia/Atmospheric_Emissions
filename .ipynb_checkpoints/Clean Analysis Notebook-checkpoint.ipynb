{
 "cells": [
  {
   "cell_type": "markdown",
   "id": "ed6b907b",
   "metadata": {
    "heading_collapsed": true
   },
   "source": [
    "# Imports"
   ]
  },
  {
   "cell_type": "code",
   "execution_count": 31,
   "id": "577bc15d",
   "metadata": {
    "hidden": true
   },
   "outputs": [],
   "source": [
    "import pandas as pd\n",
    "import numpy as np\n",
    "import matplotlib.pyplot as plt\n",
    "import seaborn as sns\n",
    "import plotly.express as px\n",
    "\n",
    "import requests\n",
    "from bs4 import BeautifulSoup\n",
    "import re"
   ]
  },
  {
   "cell_type": "markdown",
   "id": "c3481285",
   "metadata": {
    "heading_collapsed": true
   },
   "source": [
    "# Load data"
   ]
  },
  {
   "cell_type": "code",
   "execution_count": 4,
   "id": "0c451dae",
   "metadata": {
    "hidden": true
   },
   "outputs": [],
   "source": [
    "# header = 3 allows pd to read it from where the data originally starts\n",
    "ghg_data = pd.read_excel(\"atmoshpericemissionsghg.xlsx\", header = 3, sheet_name = \"GHG total \")"
   ]
  },
  {
   "cell_type": "markdown",
   "id": "81217d14",
   "metadata": {},
   "source": [
    "# Preprocessing data"
   ]
  },
  {
   "cell_type": "markdown",
   "id": "290f5bd8",
   "metadata": {},
   "source": [
    "**Excel includes 2 different tables in one sheet. Let's separate them**"
   ]
  },
  {
   "cell_type": "code",
   "execution_count": 5,
   "id": "daf37eea",
   "metadata": {},
   "outputs": [],
   "source": [
    "ghg_indus_grp = ghg_data.loc[:22]\n",
    "ghg_indus_sec_grp = ghg_data.loc[26:158]"
   ]
  },
  {
   "cell_type": "markdown",
   "id": "ddd8a057",
   "metadata": {},
   "source": [
    "## Preprocessing ghg_indus_grp\n",
    "**Let's work the on ghg_indus_grp dataframe**"
   ]
  },
  {
   "cell_type": "code",
   "execution_count": 4,
   "id": "564dbeaa",
   "metadata": {
    "scrolled": true
   },
   "outputs": [
    {
     "data": {
      "text/html": [
       "<div>\n",
       "<style scoped>\n",
       "    .dataframe tbody tr th:only-of-type {\n",
       "        vertical-align: middle;\n",
       "    }\n",
       "\n",
       "    .dataframe tbody tr th {\n",
       "        vertical-align: top;\n",
       "    }\n",
       "\n",
       "    .dataframe thead th {\n",
       "        text-align: right;\n",
       "    }\n",
       "</style>\n",
       "<table border=\"1\" class=\"dataframe\">\n",
       "  <thead>\n",
       "    <tr style=\"text-align: right;\">\n",
       "      <th></th>\n",
       "      <th>Unnamed: 0</th>\n",
       "      <th>Unnamed: 1</th>\n",
       "      <th>Unnamed: 2</th>\n",
       "      <th>1990</th>\n",
       "      <th>1991</th>\n",
       "      <th>1992</th>\n",
       "      <th>1993</th>\n",
       "      <th>1994</th>\n",
       "      <th>1995</th>\n",
       "      <th>1996</th>\n",
       "      <th>...</th>\n",
       "      <th>2012</th>\n",
       "      <th>2013</th>\n",
       "      <th>2014</th>\n",
       "      <th>2015</th>\n",
       "      <th>2016</th>\n",
       "      <th>2017</th>\n",
       "      <th>2018</th>\n",
       "      <th>2019</th>\n",
       "      <th>2020</th>\n",
       "      <th>2021</th>\n",
       "    </tr>\n",
       "  </thead>\n",
       "  <tbody>\n",
       "    <tr>\n",
       "      <th>0</th>\n",
       "      <td>A</td>\n",
       "      <td>NaN</td>\n",
       "      <td>Agriculture, forestry and fishing</td>\n",
       "      <td>55978.4</td>\n",
       "      <td>55808.5</td>\n",
       "      <td>55510.4</td>\n",
       "      <td>54725.4</td>\n",
       "      <td>55487.3</td>\n",
       "      <td>55391.7</td>\n",
       "      <td>56706.2</td>\n",
       "      <td>...</td>\n",
       "      <td>49671.9</td>\n",
       "      <td>48613.5</td>\n",
       "      <td>50571.8</td>\n",
       "      <td>51146.3</td>\n",
       "      <td>50534.4</td>\n",
       "      <td>51286.5</td>\n",
       "      <td>50557.7</td>\n",
       "      <td>50060.2</td>\n",
       "      <td>48500.2</td>\n",
       "      <td>50040.0</td>\n",
       "    </tr>\n",
       "    <tr>\n",
       "      <th>1</th>\n",
       "      <td>B</td>\n",
       "      <td>NaN</td>\n",
       "      <td>Mining and quarrying</td>\n",
       "      <td>50762.1</td>\n",
       "      <td>50877.2</td>\n",
       "      <td>51480.6</td>\n",
       "      <td>51092.0</td>\n",
       "      <td>44876.2</td>\n",
       "      <td>46739.8</td>\n",
       "      <td>46903.0</td>\n",
       "      <td>...</td>\n",
       "      <td>22281.0</td>\n",
       "      <td>20953.7</td>\n",
       "      <td>20887.3</td>\n",
       "      <td>22201.0</td>\n",
       "      <td>21100.3</td>\n",
       "      <td>21031.1</td>\n",
       "      <td>20790.9</td>\n",
       "      <td>20736.3</td>\n",
       "      <td>19135.7</td>\n",
       "      <td>17181.4</td>\n",
       "    </tr>\n",
       "    <tr>\n",
       "      <th>2</th>\n",
       "      <td>C</td>\n",
       "      <td>NaN</td>\n",
       "      <td>Manufacturing</td>\n",
       "      <td>176067.9</td>\n",
       "      <td>177032.4</td>\n",
       "      <td>170118.3</td>\n",
       "      <td>165079.3</td>\n",
       "      <td>168003.9</td>\n",
       "      <td>166085.4</td>\n",
       "      <td>167363.6</td>\n",
       "      <td>...</td>\n",
       "      <td>89688.4</td>\n",
       "      <td>92323.8</td>\n",
       "      <td>91436.1</td>\n",
       "      <td>88752.1</td>\n",
       "      <td>84312.4</td>\n",
       "      <td>85314.2</td>\n",
       "      <td>84017.6</td>\n",
       "      <td>83794.9</td>\n",
       "      <td>80927.2</td>\n",
       "      <td>81593.9</td>\n",
       "    </tr>\n",
       "    <tr>\n",
       "      <th>3</th>\n",
       "      <td>D</td>\n",
       "      <td>NaN</td>\n",
       "      <td>Electricity, gas, steam and air conditioning s...</td>\n",
       "      <td>217638.6</td>\n",
       "      <td>214348.2</td>\n",
       "      <td>202484.4</td>\n",
       "      <td>185006.1</td>\n",
       "      <td>180725.0</td>\n",
       "      <td>178167.0</td>\n",
       "      <td>177971.4</td>\n",
       "      <td>...</td>\n",
       "      <td>178586.4</td>\n",
       "      <td>169386.4</td>\n",
       "      <td>148443.9</td>\n",
       "      <td>132014.9</td>\n",
       "      <td>110073.4</td>\n",
       "      <td>99866.9</td>\n",
       "      <td>95829.7</td>\n",
       "      <td>89371.3</td>\n",
       "      <td>80310.9</td>\n",
       "      <td>86080.9</td>\n",
       "    </tr>\n",
       "    <tr>\n",
       "      <th>4</th>\n",
       "      <td>E</td>\n",
       "      <td>NaN</td>\n",
       "      <td>Water supply; sewerage, waste management and r...</td>\n",
       "      <td>75232.5</td>\n",
       "      <td>76756.7</td>\n",
       "      <td>76870.8</td>\n",
       "      <td>77189.4</td>\n",
       "      <td>77556.2</td>\n",
       "      <td>78634.3</td>\n",
       "      <td>79137.0</td>\n",
       "      <td>...</td>\n",
       "      <td>32164.5</td>\n",
       "      <td>29286.8</td>\n",
       "      <td>27392.9</td>\n",
       "      <td>27221.5</td>\n",
       "      <td>27117.4</td>\n",
       "      <td>28111.6</td>\n",
       "      <td>28407.5</td>\n",
       "      <td>27934.3</td>\n",
       "      <td>26552.4</td>\n",
       "      <td>26551.4</td>\n",
       "    </tr>\n",
       "  </tbody>\n",
       "</table>\n",
       "<p>5 rows × 35 columns</p>\n",
       "</div>"
      ],
      "text/plain": [
       "  Unnamed: 0 Unnamed: 1                                         Unnamed: 2  \\\n",
       "0          A        NaN                  Agriculture, forestry and fishing   \n",
       "1          B        NaN                               Mining and quarrying   \n",
       "2          C        NaN                                      Manufacturing   \n",
       "3          D        NaN  Electricity, gas, steam and air conditioning s...   \n",
       "4          E        NaN  Water supply; sewerage, waste management and r...   \n",
       "\n",
       "       1990      1991      1992      1993      1994      1995      1996  ...  \\\n",
       "0   55978.4   55808.5   55510.4   54725.4   55487.3   55391.7   56706.2  ...   \n",
       "1   50762.1   50877.2   51480.6   51092.0   44876.2   46739.8   46903.0  ...   \n",
       "2  176067.9  177032.4  170118.3  165079.3  168003.9  166085.4  167363.6  ...   \n",
       "3  217638.6  214348.2  202484.4  185006.1  180725.0  178167.0  177971.4  ...   \n",
       "4   75232.5   76756.7   76870.8   77189.4   77556.2   78634.3   79137.0  ...   \n",
       "\n",
       "       2012      2013      2014      2015      2016     2017     2018  \\\n",
       "0   49671.9   48613.5   50571.8   51146.3   50534.4  51286.5  50557.7   \n",
       "1   22281.0   20953.7   20887.3   22201.0   21100.3  21031.1  20790.9   \n",
       "2   89688.4   92323.8   91436.1   88752.1   84312.4  85314.2  84017.6   \n",
       "3  178586.4  169386.4  148443.9  132014.9  110073.4  99866.9  95829.7   \n",
       "4   32164.5   29286.8   27392.9   27221.5   27117.4  28111.6  28407.5   \n",
       "\n",
       "      2019     2020     2021  \n",
       "0  50060.2  48500.2  50040.0  \n",
       "1  20736.3  19135.7  17181.4  \n",
       "2  83794.9  80927.2  81593.9  \n",
       "3  89371.3  80310.9  86080.9  \n",
       "4  27934.3  26552.4  26551.4  \n",
       "\n",
       "[5 rows x 35 columns]"
      ]
     },
     "execution_count": 4,
     "metadata": {},
     "output_type": "execute_result"
    }
   ],
   "source": [
    "ghg_indus_grp.head()"
   ]
  },
  {
   "cell_type": "markdown",
   "id": "00710e4d",
   "metadata": {},
   "source": [
    "**Drop Unnamed: 1 and rename the remaining columns**"
   ]
  },
  {
   "cell_type": "code",
   "execution_count": 6,
   "id": "732c8f2d",
   "metadata": {},
   "outputs": [
    {
     "name": "stderr",
     "output_type": "stream",
     "text": [
      "/var/folders/45/qc4989c57zlbtkmp2cnnpcfc0000gn/T/ipykernel_96108/584093540.py:1: SettingWithCopyWarning: \n",
      "A value is trying to be set on a copy of a slice from a DataFrame\n",
      "\n",
      "See the caveats in the documentation: https://pandas.pydata.org/pandas-docs/stable/user_guide/indexing.html#returning-a-view-versus-a-copy\n",
      "  ghg_indus_grp.rename(columns = {\"Unnamed: 0\": \"Letter code\", \"Unnamed: 2\": \"Industry\"}, inplace = True)\n"
     ]
    }
   ],
   "source": [
    "ghg_indus_grp.rename(columns = {\"Unnamed: 0\": \"Letter code\", \"Unnamed: 2\": \"Industry\"}, inplace = True)\n",
    "del ghg_indus_grp[\"Unnamed: 1\"]"
   ]
  },
  {
   "cell_type": "markdown",
   "id": "a1a863dd",
   "metadata": {},
   "source": [
    "**Understand your dataframe using .info()**"
   ]
  },
  {
   "cell_type": "code",
   "execution_count": 7,
   "id": "b75fba59",
   "metadata": {
    "scrolled": true
   },
   "outputs": [
    {
     "name": "stdout",
     "output_type": "stream",
     "text": [
      "<class 'pandas.core.frame.DataFrame'>\n",
      "RangeIndex: 23 entries, 0 to 22\n",
      "Data columns (total 34 columns):\n",
      " #   Column       Non-Null Count  Dtype  \n",
      "---  ------       --------------  -----  \n",
      " 0   Letter code  21 non-null     object \n",
      " 1   Industry     22 non-null     object \n",
      " 2   1990         22 non-null     object \n",
      " 3   1991         22 non-null     float64\n",
      " 4   1992         22 non-null     float64\n",
      " 5   1993         22 non-null     float64\n",
      " 6   1994         22 non-null     float64\n",
      " 7   1995         22 non-null     float64\n",
      " 8   1996         22 non-null     float64\n",
      " 9   1997         22 non-null     float64\n",
      " 10  1998         22 non-null     float64\n",
      " 11  1999         22 non-null     float64\n",
      " 12  2000         22 non-null     float64\n",
      " 13  2001         22 non-null     float64\n",
      " 14  2002         22 non-null     float64\n",
      " 15  2003         22 non-null     float64\n",
      " 16  2004         22 non-null     float64\n",
      " 17  2005         22 non-null     float64\n",
      " 18  2006         22 non-null     float64\n",
      " 19  2007         22 non-null     float64\n",
      " 20  2008         22 non-null     float64\n",
      " 21  2009         22 non-null     float64\n",
      " 22  2010         22 non-null     float64\n",
      " 23  2011         22 non-null     float64\n",
      " 24  2012         22 non-null     float64\n",
      " 25  2013         22 non-null     float64\n",
      " 26  2014         22 non-null     float64\n",
      " 27  2015         22 non-null     float64\n",
      " 28  2016         22 non-null     float64\n",
      " 29  2017         22 non-null     float64\n",
      " 30  2018         22 non-null     float64\n",
      " 31  2019         22 non-null     float64\n",
      " 32  2020         22 non-null     float64\n",
      " 33  2021         22 non-null     float64\n",
      "dtypes: float64(31), object(3)\n",
      "memory usage: 6.2+ KB\n"
     ]
    }
   ],
   "source": [
    "ghg_indus_grp.info()"
   ]
  },
  {
   "cell_type": "markdown",
   "id": "3829d4aa",
   "metadata": {},
   "source": [
    "**Let's take out the null rows**"
   ]
  },
  {
   "cell_type": "code",
   "execution_count": 7,
   "id": "ff43e829",
   "metadata": {},
   "outputs": [
    {
     "name": "stderr",
     "output_type": "stream",
     "text": [
      "/var/folders/45/qc4989c57zlbtkmp2cnnpcfc0000gn/T/ipykernel_96108/1619219843.py:1: SettingWithCopyWarning: \n",
      "A value is trying to be set on a copy of a slice from a DataFrame\n",
      "\n",
      "See the caveats in the documentation: https://pandas.pydata.org/pandas-docs/stable/user_guide/indexing.html#returning-a-view-versus-a-copy\n",
      "  ghg_indus_grp.drop(21, inplace = True)\n"
     ]
    }
   ],
   "source": [
    "ghg_indus_grp.drop(21, inplace = True)"
   ]
  },
  {
   "cell_type": "code",
   "execution_count": 8,
   "id": "26664af7",
   "metadata": {},
   "outputs": [],
   "source": [
    "ghg_indus_grp.reset_index(inplace = True)"
   ]
  },
  {
   "cell_type": "markdown",
   "id": "cf450927",
   "metadata": {},
   "source": [
    "**Delete the original index since a new one has been created**"
   ]
  },
  {
   "cell_type": "code",
   "execution_count": 9,
   "id": "3ff4dfef",
   "metadata": {},
   "outputs": [],
   "source": [
    "del ghg_indus_grp[\"index\"]"
   ]
  },
  {
   "cell_type": "markdown",
   "id": "99efd9f3",
   "metadata": {},
   "source": [
    " **Reassigning consumer with a letter code (from - to \"U\")**"
   ]
  },
  {
   "cell_type": "code",
   "execution_count": 10,
   "id": "07fb1d5f",
   "metadata": {},
   "outputs": [],
   "source": [
    "ghg_indus_grp.loc[20, \"Letter code\"] = \"U\""
   ]
  },
  {
   "cell_type": "code",
   "execution_count": 11,
   "id": "baaa6a8c",
   "metadata": {},
   "outputs": [
    {
     "data": {
      "text/html": [
       "<div>\n",
       "<style scoped>\n",
       "    .dataframe tbody tr th:only-of-type {\n",
       "        vertical-align: middle;\n",
       "    }\n",
       "\n",
       "    .dataframe tbody tr th {\n",
       "        vertical-align: top;\n",
       "    }\n",
       "\n",
       "    .dataframe thead th {\n",
       "        text-align: right;\n",
       "    }\n",
       "</style>\n",
       "<table border=\"1\" class=\"dataframe\">\n",
       "  <thead>\n",
       "    <tr style=\"text-align: right;\">\n",
       "      <th></th>\n",
       "      <th>Letter code</th>\n",
       "      <th>Industry</th>\n",
       "      <th>1990</th>\n",
       "      <th>1991</th>\n",
       "      <th>1992</th>\n",
       "      <th>1993</th>\n",
       "      <th>1994</th>\n",
       "      <th>1995</th>\n",
       "      <th>1996</th>\n",
       "      <th>1997</th>\n",
       "      <th>...</th>\n",
       "      <th>2012</th>\n",
       "      <th>2013</th>\n",
       "      <th>2014</th>\n",
       "      <th>2015</th>\n",
       "      <th>2016</th>\n",
       "      <th>2017</th>\n",
       "      <th>2018</th>\n",
       "      <th>2019</th>\n",
       "      <th>2020</th>\n",
       "      <th>2021</th>\n",
       "    </tr>\n",
       "  </thead>\n",
       "  <tbody>\n",
       "    <tr>\n",
       "      <th>17</th>\n",
       "      <td>R</td>\n",
       "      <td>Arts, entertainment and recreation</td>\n",
       "      <td>1797.7</td>\n",
       "      <td>1885.4</td>\n",
       "      <td>1712.9</td>\n",
       "      <td>1793.5</td>\n",
       "      <td>1739.3</td>\n",
       "      <td>1737.8</td>\n",
       "      <td>1793.2</td>\n",
       "      <td>1629.0</td>\n",
       "      <td>...</td>\n",
       "      <td>1068.9</td>\n",
       "      <td>1059.3</td>\n",
       "      <td>979.0</td>\n",
       "      <td>1011.2</td>\n",
       "      <td>1035.8</td>\n",
       "      <td>1022.2</td>\n",
       "      <td>1007.7</td>\n",
       "      <td>1002.6</td>\n",
       "      <td>880.0</td>\n",
       "      <td>954.8</td>\n",
       "    </tr>\n",
       "    <tr>\n",
       "      <th>18</th>\n",
       "      <td>S</td>\n",
       "      <td>Other service activities</td>\n",
       "      <td>1162.8</td>\n",
       "      <td>1251.9</td>\n",
       "      <td>1191.3</td>\n",
       "      <td>1249.9</td>\n",
       "      <td>1241.8</td>\n",
       "      <td>1272.8</td>\n",
       "      <td>1326.1</td>\n",
       "      <td>1216.1</td>\n",
       "      <td>...</td>\n",
       "      <td>989.6</td>\n",
       "      <td>995.8</td>\n",
       "      <td>916.5</td>\n",
       "      <td>978.8</td>\n",
       "      <td>1004.7</td>\n",
       "      <td>987.8</td>\n",
       "      <td>976.0</td>\n",
       "      <td>970.9</td>\n",
       "      <td>847.4</td>\n",
       "      <td>917.5</td>\n",
       "    </tr>\n",
       "    <tr>\n",
       "      <th>19</th>\n",
       "      <td>T</td>\n",
       "      <td>Activities of households as employers; undiffe...</td>\n",
       "      <td>76.3</td>\n",
       "      <td>75.1</td>\n",
       "      <td>76.8</td>\n",
       "      <td>78.2</td>\n",
       "      <td>81.9</td>\n",
       "      <td>83.4</td>\n",
       "      <td>81.6</td>\n",
       "      <td>84.3</td>\n",
       "      <td>...</td>\n",
       "      <td>47.3</td>\n",
       "      <td>41.9</td>\n",
       "      <td>46.4</td>\n",
       "      <td>42.5</td>\n",
       "      <td>51.6</td>\n",
       "      <td>46.2</td>\n",
       "      <td>47.6</td>\n",
       "      <td>47.7</td>\n",
       "      <td>31.5</td>\n",
       "      <td>40.7</td>\n",
       "    </tr>\n",
       "    <tr>\n",
       "      <th>20</th>\n",
       "      <td>U</td>\n",
       "      <td>Consumer expenditure</td>\n",
       "      <td>143893.7</td>\n",
       "      <td>152359.2</td>\n",
       "      <td>150676.4</td>\n",
       "      <td>155426.7</td>\n",
       "      <td>150210.3</td>\n",
       "      <td>144708.1</td>\n",
       "      <td>159770.4</td>\n",
       "      <td>153848.3</td>\n",
       "      <td>...</td>\n",
       "      <td>146065.1</td>\n",
       "      <td>148147.5</td>\n",
       "      <td>136001.5</td>\n",
       "      <td>139976.4</td>\n",
       "      <td>142422.1</td>\n",
       "      <td>141389.9</td>\n",
       "      <td>144174.1</td>\n",
       "      <td>140918.0</td>\n",
       "      <td>125152.7</td>\n",
       "      <td>134761.9</td>\n",
       "    </tr>\n",
       "    <tr>\n",
       "      <th>21</th>\n",
       "      <td>NaN</td>\n",
       "      <td>Total greenhouse gas emissions</td>\n",
       "      <td>842944.6</td>\n",
       "      <td>852556.5</td>\n",
       "      <td>833417.1</td>\n",
       "      <td>815888.8</td>\n",
       "      <td>804929.0</td>\n",
       "      <td>800882.1</td>\n",
       "      <td>827193.7</td>\n",
       "      <td>811315.7</td>\n",
       "      <td>...</td>\n",
       "      <td>656182.9</td>\n",
       "      <td>642592.4</td>\n",
       "      <td>610966.9</td>\n",
       "      <td>600621.2</td>\n",
       "      <td>578877.3</td>\n",
       "      <td>563160.3</td>\n",
       "      <td>564144.5</td>\n",
       "      <td>550583.8</td>\n",
       "      <td>488596.4</td>\n",
       "      <td>502786.6</td>\n",
       "    </tr>\n",
       "  </tbody>\n",
       "</table>\n",
       "<p>5 rows × 34 columns</p>\n",
       "</div>"
      ],
      "text/plain": [
       "   Letter code                                           Industry      1990  \\\n",
       "17           R                 Arts, entertainment and recreation    1797.7   \n",
       "18           S                           Other service activities    1162.8   \n",
       "19           T  Activities of households as employers; undiffe...      76.3   \n",
       "20           U                               Consumer expenditure  143893.7   \n",
       "21         NaN                     Total greenhouse gas emissions  842944.6   \n",
       "\n",
       "        1991      1992      1993      1994      1995      1996      1997  ...  \\\n",
       "17    1885.4    1712.9    1793.5    1739.3    1737.8    1793.2    1629.0  ...   \n",
       "18    1251.9    1191.3    1249.9    1241.8    1272.8    1326.1    1216.1  ...   \n",
       "19      75.1      76.8      78.2      81.9      83.4      81.6      84.3  ...   \n",
       "20  152359.2  150676.4  155426.7  150210.3  144708.1  159770.4  153848.3  ...   \n",
       "21  852556.5  833417.1  815888.8  804929.0  800882.1  827193.7  811315.7  ...   \n",
       "\n",
       "        2012      2013      2014      2015      2016      2017      2018  \\\n",
       "17    1068.9    1059.3     979.0    1011.2    1035.8    1022.2    1007.7   \n",
       "18     989.6     995.8     916.5     978.8    1004.7     987.8     976.0   \n",
       "19      47.3      41.9      46.4      42.5      51.6      46.2      47.6   \n",
       "20  146065.1  148147.5  136001.5  139976.4  142422.1  141389.9  144174.1   \n",
       "21  656182.9  642592.4  610966.9  600621.2  578877.3  563160.3  564144.5   \n",
       "\n",
       "        2019      2020      2021  \n",
       "17    1002.6     880.0     954.8  \n",
       "18     970.9     847.4     917.5  \n",
       "19      47.7      31.5      40.7  \n",
       "20  140918.0  125152.7  134761.9  \n",
       "21  550583.8  488596.4  502786.6  \n",
       "\n",
       "[5 rows x 34 columns]"
      ]
     },
     "execution_count": 11,
     "metadata": {},
     "output_type": "execute_result"
    }
   ],
   "source": [
    "ghg_indus_grp.tail()"
   ]
  },
  {
   "cell_type": "markdown",
   "id": "f42cf9b8",
   "metadata": {},
   "source": [
    "### Processing Total\n",
    "**Detach Total greenhouse gas emissions row ghg_indus_grp to a new df and preprocess**"
   ]
  },
  {
   "cell_type": "code",
   "execution_count": 12,
   "id": "61336249",
   "metadata": {},
   "outputs": [],
   "source": [
    "total_ghg = ghg_indus_grp.iloc[21:, :]"
   ]
  },
  {
   "cell_type": "code",
   "execution_count": 13,
   "id": "7a7a21be",
   "metadata": {},
   "outputs": [
    {
     "name": "stderr",
     "output_type": "stream",
     "text": [
      "/var/folders/45/qc4989c57zlbtkmp2cnnpcfc0000gn/T/ipykernel_96108/795293396.py:3: SettingWithCopyWarning: \n",
      "A value is trying to be set on a copy of a slice from a DataFrame\n",
      "\n",
      "See the caveats in the documentation: https://pandas.pydata.org/pandas-docs/stable/user_guide/indexing.html#returning-a-view-versus-a-copy\n",
      "  total_ghg.rename(columns = {\"Industry\": \"\"}, inplace = True)\n"
     ]
    }
   ],
   "source": [
    "# reset index and rename industry column\n",
    "total_ghg.reset_index(inplace = True)\n",
    "total_ghg.rename(columns = {\"Industry\": \"\"}, inplace = True)"
   ]
  },
  {
   "cell_type": "code",
   "execution_count": 14,
   "id": "ac960cd1",
   "metadata": {},
   "outputs": [],
   "source": [
    "del total_ghg[\"index\"]\n",
    "del total_ghg[\"Letter code\"]"
   ]
  },
  {
   "cell_type": "code",
   "execution_count": 15,
   "id": "89efbcd3",
   "metadata": {},
   "outputs": [
    {
     "data": {
      "text/html": [
       "<div>\n",
       "<style scoped>\n",
       "    .dataframe tbody tr th:only-of-type {\n",
       "        vertical-align: middle;\n",
       "    }\n",
       "\n",
       "    .dataframe tbody tr th {\n",
       "        vertical-align: top;\n",
       "    }\n",
       "\n",
       "    .dataframe thead th {\n",
       "        text-align: right;\n",
       "    }\n",
       "</style>\n",
       "<table border=\"1\" class=\"dataframe\">\n",
       "  <thead>\n",
       "    <tr style=\"text-align: right;\">\n",
       "      <th></th>\n",
       "      <th></th>\n",
       "      <th>1990</th>\n",
       "      <th>1991</th>\n",
       "      <th>1992</th>\n",
       "      <th>1993</th>\n",
       "      <th>1994</th>\n",
       "      <th>1995</th>\n",
       "      <th>1996</th>\n",
       "      <th>1997</th>\n",
       "      <th>1998</th>\n",
       "      <th>...</th>\n",
       "      <th>2012</th>\n",
       "      <th>2013</th>\n",
       "      <th>2014</th>\n",
       "      <th>2015</th>\n",
       "      <th>2016</th>\n",
       "      <th>2017</th>\n",
       "      <th>2018</th>\n",
       "      <th>2019</th>\n",
       "      <th>2020</th>\n",
       "      <th>2021</th>\n",
       "    </tr>\n",
       "  </thead>\n",
       "  <tbody>\n",
       "    <tr>\n",
       "      <th>0</th>\n",
       "      <td>Total greenhouse gas emissions</td>\n",
       "      <td>842944.6</td>\n",
       "      <td>852556.5</td>\n",
       "      <td>833417.1</td>\n",
       "      <td>815888.8</td>\n",
       "      <td>804929.0</td>\n",
       "      <td>800882.1</td>\n",
       "      <td>827193.7</td>\n",
       "      <td>811315.7</td>\n",
       "      <td>815920.6</td>\n",
       "      <td>...</td>\n",
       "      <td>656182.9</td>\n",
       "      <td>642592.4</td>\n",
       "      <td>610966.9</td>\n",
       "      <td>600621.2</td>\n",
       "      <td>578877.3</td>\n",
       "      <td>563160.3</td>\n",
       "      <td>564144.5</td>\n",
       "      <td>550583.8</td>\n",
       "      <td>488596.4</td>\n",
       "      <td>502786.6</td>\n",
       "    </tr>\n",
       "  </tbody>\n",
       "</table>\n",
       "<p>1 rows × 33 columns</p>\n",
       "</div>"
      ],
      "text/plain": [
       "                                       1990      1991      1992      1993  \\\n",
       "0  Total greenhouse gas emissions  842944.6  852556.5  833417.1  815888.8   \n",
       "\n",
       "       1994      1995      1996      1997      1998  ...      2012      2013  \\\n",
       "0  804929.0  800882.1  827193.7  811315.7  815920.6  ...  656182.9  642592.4   \n",
       "\n",
       "       2014      2015      2016      2017      2018      2019      2020  \\\n",
       "0  610966.9  600621.2  578877.3  563160.3  564144.5  550583.8  488596.4   \n",
       "\n",
       "       2021  \n",
       "0  502786.6  \n",
       "\n",
       "[1 rows x 33 columns]"
      ]
     },
     "execution_count": 15,
     "metadata": {},
     "output_type": "execute_result"
    }
   ],
   "source": [
    "total_ghg"
   ]
  },
  {
   "cell_type": "markdown",
   "id": "4b199a34",
   "metadata": {},
   "source": [
    "**Make the columns a row**"
   ]
  },
  {
   "cell_type": "code",
   "execution_count": 16,
   "id": "7606ab29",
   "metadata": {},
   "outputs": [
    {
     "name": "stderr",
     "output_type": "stream",
     "text": [
      "/var/folders/45/qc4989c57zlbtkmp2cnnpcfc0000gn/T/ipykernel_96108/1190151680.py:3: FutureWarning: The frame.append method is deprecated and will be removed from pandas in a future version. Use pandas.concat instead.\n",
      "  total_ghg = total_ghg.columns.to_frame().T.append(total_ghg, ignore_index=True)\n"
     ]
    }
   ],
   "source": [
    "# df = df.columns.to_frame().T.append(df, ignore_index=True)\n",
    "# df.columns = range(len(df.columns))\n",
    "total_ghg = total_ghg.columns.to_frame().T.append(total_ghg, ignore_index=True)\n",
    "total_ghg.columns = range(len(total_ghg.columns))"
   ]
  },
  {
   "cell_type": "code",
   "execution_count": 17,
   "id": "1733983c",
   "metadata": {},
   "outputs": [
    {
     "data": {
      "text/html": [
       "<div>\n",
       "<style scoped>\n",
       "    .dataframe tbody tr th:only-of-type {\n",
       "        vertical-align: middle;\n",
       "    }\n",
       "\n",
       "    .dataframe tbody tr th {\n",
       "        vertical-align: top;\n",
       "    }\n",
       "\n",
       "    .dataframe thead th {\n",
       "        text-align: right;\n",
       "    }\n",
       "</style>\n",
       "<table border=\"1\" class=\"dataframe\">\n",
       "  <thead>\n",
       "    <tr style=\"text-align: right;\">\n",
       "      <th></th>\n",
       "      <th>0</th>\n",
       "      <th>1</th>\n",
       "      <th>2</th>\n",
       "      <th>3</th>\n",
       "      <th>4</th>\n",
       "      <th>5</th>\n",
       "      <th>6</th>\n",
       "      <th>7</th>\n",
       "      <th>8</th>\n",
       "      <th>9</th>\n",
       "      <th>...</th>\n",
       "      <th>23</th>\n",
       "      <th>24</th>\n",
       "      <th>25</th>\n",
       "      <th>26</th>\n",
       "      <th>27</th>\n",
       "      <th>28</th>\n",
       "      <th>29</th>\n",
       "      <th>30</th>\n",
       "      <th>31</th>\n",
       "      <th>32</th>\n",
       "    </tr>\n",
       "  </thead>\n",
       "  <tbody>\n",
       "    <tr>\n",
       "      <th>0</th>\n",
       "      <td></td>\n",
       "      <td>1990</td>\n",
       "      <td>1991</td>\n",
       "      <td>1992</td>\n",
       "      <td>1993</td>\n",
       "      <td>1994</td>\n",
       "      <td>1995</td>\n",
       "      <td>1996</td>\n",
       "      <td>1997</td>\n",
       "      <td>1998</td>\n",
       "      <td>...</td>\n",
       "      <td>2012</td>\n",
       "      <td>2013</td>\n",
       "      <td>2014</td>\n",
       "      <td>2015</td>\n",
       "      <td>2016</td>\n",
       "      <td>2017</td>\n",
       "      <td>2018</td>\n",
       "      <td>2019</td>\n",
       "      <td>2020</td>\n",
       "      <td>2021</td>\n",
       "    </tr>\n",
       "    <tr>\n",
       "      <th>1</th>\n",
       "      <td>Total greenhouse gas emissions</td>\n",
       "      <td>842944.6</td>\n",
       "      <td>852556.5</td>\n",
       "      <td>833417.1</td>\n",
       "      <td>815888.8</td>\n",
       "      <td>804929.0</td>\n",
       "      <td>800882.1</td>\n",
       "      <td>827193.7</td>\n",
       "      <td>811315.7</td>\n",
       "      <td>815920.6</td>\n",
       "      <td>...</td>\n",
       "      <td>656182.9</td>\n",
       "      <td>642592.4</td>\n",
       "      <td>610966.9</td>\n",
       "      <td>600621.2</td>\n",
       "      <td>578877.3</td>\n",
       "      <td>563160.3</td>\n",
       "      <td>564144.5</td>\n",
       "      <td>550583.8</td>\n",
       "      <td>488596.4</td>\n",
       "      <td>502786.6</td>\n",
       "    </tr>\n",
       "  </tbody>\n",
       "</table>\n",
       "<p>2 rows × 33 columns</p>\n",
       "</div>"
      ],
      "text/plain": [
       "                               0         1         2         3         4   \\\n",
       "0                                      1990      1991      1992      1993   \n",
       "1  Total greenhouse gas emissions  842944.6  852556.5  833417.1  815888.8   \n",
       "\n",
       "         5         6         7         8         9   ...        23        24  \\\n",
       "0      1994      1995      1996      1997      1998  ...      2012      2013   \n",
       "1  804929.0  800882.1  827193.7  811315.7  815920.6  ...  656182.9  642592.4   \n",
       "\n",
       "         25        26        27        28        29        30        31  \\\n",
       "0      2014      2015      2016      2017      2018      2019      2020   \n",
       "1  610966.9  600621.2  578877.3  563160.3  564144.5  550583.8  488596.4   \n",
       "\n",
       "         32  \n",
       "0      2021  \n",
       "1  502786.6  \n",
       "\n",
       "[2 rows x 33 columns]"
      ]
     },
     "execution_count": 17,
     "metadata": {},
     "output_type": "execute_result"
    }
   ],
   "source": [
    "total_ghg"
   ]
  },
  {
   "cell_type": "markdown",
   "id": "0354e97b",
   "metadata": {},
   "source": [
    "**Name the year row**"
   ]
  },
  {
   "cell_type": "code",
   "execution_count": 18,
   "id": "082e9464",
   "metadata": {},
   "outputs": [],
   "source": [
    "total_ghg.iloc[0, 0] = \"Year\""
   ]
  },
  {
   "cell_type": "markdown",
   "id": "378e7417",
   "metadata": {},
   "source": [
    "**Make into a vertical table (transpose) and make the first row into columns**"
   ]
  },
  {
   "cell_type": "code",
   "execution_count": 19,
   "id": "fcc20c77",
   "metadata": {},
   "outputs": [],
   "source": [
    "total_ghg = total_ghg.transpose()\n",
    "total_ghg.columns = total_ghg.iloc[0, :]\n",
    "\n",
    "# deleting the now duplicated row\n",
    "total_ghg.drop(0, inplace = True)"
   ]
  },
  {
   "cell_type": "code",
   "execution_count": 20,
   "id": "018aa45a",
   "metadata": {},
   "outputs": [
    {
     "data": {
      "text/html": [
       "<div>\n",
       "<style scoped>\n",
       "    .dataframe tbody tr th:only-of-type {\n",
       "        vertical-align: middle;\n",
       "    }\n",
       "\n",
       "    .dataframe tbody tr th {\n",
       "        vertical-align: top;\n",
       "    }\n",
       "\n",
       "    .dataframe thead th {\n",
       "        text-align: right;\n",
       "    }\n",
       "</style>\n",
       "<table border=\"1\" class=\"dataframe\">\n",
       "  <thead>\n",
       "    <tr style=\"text-align: right;\">\n",
       "      <th></th>\n",
       "      <th>Year</th>\n",
       "      <th>Total greenhouse gas emissions</th>\n",
       "    </tr>\n",
       "  </thead>\n",
       "  <tbody>\n",
       "    <tr>\n",
       "      <th>1</th>\n",
       "      <td>1990</td>\n",
       "      <td>842944.6</td>\n",
       "    </tr>\n",
       "    <tr>\n",
       "      <th>2</th>\n",
       "      <td>1991</td>\n",
       "      <td>852556.5</td>\n",
       "    </tr>\n",
       "    <tr>\n",
       "      <th>3</th>\n",
       "      <td>1992</td>\n",
       "      <td>833417.1</td>\n",
       "    </tr>\n",
       "    <tr>\n",
       "      <th>4</th>\n",
       "      <td>1993</td>\n",
       "      <td>815888.8</td>\n",
       "    </tr>\n",
       "    <tr>\n",
       "      <th>5</th>\n",
       "      <td>1994</td>\n",
       "      <td>804929.0</td>\n",
       "    </tr>\n",
       "  </tbody>\n",
       "</table>\n",
       "</div>"
      ],
      "text/plain": [
       "0  Year Total greenhouse gas emissions\n",
       "1  1990                       842944.6\n",
       "2  1991                       852556.5\n",
       "3  1992                       833417.1\n",
       "4  1993                       815888.8\n",
       "5  1994                       804929.0"
      ]
     },
     "execution_count": 20,
     "metadata": {},
     "output_type": "execute_result"
    }
   ],
   "source": [
    "total_ghg.head()"
   ]
  },
  {
   "cell_type": "markdown",
   "id": "bf928564",
   "metadata": {},
   "source": [
    "#### Visualizing total_ghg\n",
    "**Let's visualise the total_ghg df using bar plot**"
   ]
  },
  {
   "cell_type": "code",
   "execution_count": 21,
   "id": "ca61e9b5",
   "metadata": {},
   "outputs": [
    {
     "data": {
      "image/png": "[encoded data removed]",
      "text/plain": [
       "<Figure size 640x480 with 1 Axes>"
      ]
     },
     "metadata": {},
     "output_type": "display_data"
    }
   ],
   "source": [
    "heights = total_ghg[\"Total greenhouse gas emissions\"].to_list()\n",
    "year = total_ghg[\"Year\"].to_list()\n",
    "\n",
    "plt.bar(year, heights)\n",
    "plt.title(\"Yearly GHG emissions\")\n",
    "plt.xlabel(\"Year\")\n",
    "plt.ylabel(\"Total GHG emissions\")\n",
    "plt.show()"
   ]
  },
  {
   "cell_type": "markdown",
   "id": "8d1326f9",
   "metadata": {},
   "source": [
    "**Using a scatterplot**"
   ]
  },
  {
   "cell_type": "code",
   "execution_count": 22,
   "id": "5ae5002e",
   "metadata": {},
   "outputs": [
    {
     "data": {
      "image/png": "[encoded data removed]",
      "text/plain": [
       "<Figure size 640x480 with 1 Axes>"
      ]
     },
     "metadata": {},
     "output_type": "display_data"
    }
   ],
   "source": [
    "plt.scatter(year, heights)\n",
    "plt.title(\"Yearly GHG emissions\")\n",
    "plt.xlabel(\"Year\")\n",
    "plt.ylabel(\"Total GHG emissions\")\n",
    "plt.show()"
   ]
  },
  {
   "cell_type": "code",
   "execution_count": 30,
   "id": "7506a0c3",
   "metadata": {
    "scrolled": true
   },
   "outputs": [
    {
     "data": {
      "image/png": "[encoded data removed]",
      "text/plain": [
       "<Figure size 640x480 with 1 Axes>"
      ]
     },
     "metadata": {},
     "output_type": "display_data"
    }
   ],
   "source": [
    "# plt.xticks(range(len(bars_label)), bars_label, rotation='vertical')\n",
    "x = ghg_indus_grp[\"Industry\"].to_list()\n",
    "y = ghg_indus_grp[1990].to_list()\n",
    "\n",
    "plt.bar(x, y)\n",
    "plt.title(\"Industry emissions in 1990\")\n",
    "plt.xticks(x, rotation = \"vertical\")\n",
    "plt.show()"
   ]
  },
  {
   "cell_type": "code",
   "execution_count": 39,
   "id": "8d6cab13",
   "metadata": {},
   "outputs": [
    {
     "data": {
      "application/vnd.plotly.v1+json": {
       "config": {
        "plotlyServerURL": "https://plot.ly"
       },
       "data": [
        {
         "alignmentgroup": "True",
         "bingroup": "x",
         "histfunc": "avg",
         "hovertemplate": "Industry=Agriculture, forestry and fishing<br>Letter code=%{x}<br>avg of 1990=%{y}<extra></extra>",
         "legendgroup": "Agriculture, forestry and fishing",
         "marker": {
          "color": "#636efa",
          "pattern": {
           "shape": ""
          }
         },
         "name": "Agriculture, forestry and fishing",
         "offsetgroup": "Agriculture, forestry and fishing",
         "orientation": "v",
         "showlegend": true,
         "type": "histogram",
         "x": [
          "A"
         ],
         "xaxis": "x",
         "y": [
          55978.4
         ],
         "yaxis": "y"
        },
        {
         "alignmentgroup": "True",
         "bingroup": "x",
         "histfunc": "avg",
         "hovertemplate": "Industry=Mining and quarrying<br>Letter code=%{x}<br>avg of 1990=%{y}<extra></extra>",
         "legendgroup": "Mining and quarrying",
         "marker": {
          "color": "#EF553B",
          "pattern": {
           "shape": ""
          }
         },
         "name": "Mining and quarrying",
         "offsetgroup": "Mining and quarrying",
         "orientation": "v",
         "showlegend": true,
         "type": "histogram",
         "x": [
          "B"
         ],
         "xaxis": "x",
         "y": [
          50762.1
         ],
         "yaxis": "y"
        },
        {
         "alignmentgroup": "True",
         "bingroup": "x",
         "histfunc": "avg",
         "hovertemplate": "Industry=Manufacturing<br>Letter code=%{x}<br>avg of 1990=%{y}<extra></extra>",
         "legendgroup": "Manufacturing",
         "marker": {
          "color": "#00cc96",
          "pattern": {
           "shape": ""
          }
         },
         "name": "Manufacturing",
         "offsetgroup": "Manufacturing",
         "orientation": "v",
         "showlegend": true,
         "type": "histogram",
         "x": [
          "C"
         ],
         "xaxis": "x",
         "y": [
          176067.9
         ],
         "yaxis": "y"
        },
        {
         "alignmentgroup": "True",
         "bingroup": "x",
         "histfunc": "avg",
         "hovertemplate": "Industry=Electricity, gas, steam and air conditioning supply<br>Letter code=%{x}<br>avg of 1990=%{y}<extra></extra>",
         "legendgroup": "Electricity, gas, steam and air conditioning supply",
         "marker": {
          "color": "#ab63fa",
          "pattern": {
           "shape": ""
          }
         },
         "name": "Electricity, gas, steam and air conditioning supply",
         "offsetgroup": "Electricity, gas, steam and air conditioning supply",
         "orientation": "v",
         "showlegend": true,
         "type": "histogram",
         "x": [
          "D"
         ],
         "xaxis": "x",
         "y": [
          217638.6
         ],
         "yaxis": "y"
        },
        {
         "alignmentgroup": "True",
         "bingroup": "x",
         "histfunc": "avg",
         "hovertemplate": "Industry=Water supply; sewerage, waste management and remediation activities<br>Letter code=%{x}<br>avg of 1990=%{y}<extra></extra>",
         "legendgroup": "Water supply; sewerage, waste management and remediation activities",
         "marker": {
          "color": "#FFA15A",
          "pattern": {
           "shape": ""
          }
         },
         "name": "Water supply; sewerage, waste management and remediation activities",
         "offsetgroup": "Water supply; sewerage, waste management and remediation activities",
         "orientation": "v",
         "showlegend": true,
         "type": "histogram",
         "x": [
          "E"
         ],
         "xaxis": "x",
         "y": [
          75232.5
         ],
         "yaxis": "y"
        },
        {
         "alignmentgroup": "True",
         "bingroup": "x",
         "histfunc": "avg",
         "hovertemplate": "Industry=Construction<br>Letter code=%{x}<br>avg of 1990=%{y}<extra></extra>",
         "legendgroup": "Construction",
         "marker": {
          "color": "#19d3f3",
          "pattern": {
           "shape": ""
          }
         },
         "name": "Construction",
         "offsetgroup": "Construction",
         "orientation": "v",
         "showlegend": true,
         "type": "histogram",
         "x": [
          "F"
         ],
         "xaxis": "x",
         "y": [
          5786.8
         ],
         "yaxis": "y"
        },
        {
         "alignmentgroup": "True",
         "bingroup": "x",
         "histfunc": "avg",
         "hovertemplate": "Industry=Wholesale and retail trade; repair of motor vehicles and motorcycles<br>Letter code=%{x}<br>avg of 1990=%{y}<extra></extra>",
         "legendgroup": "Wholesale and retail trade; repair of motor vehicles and motorcycles",
         "marker": {
          "color": "#FF6692",
          "pattern": {
           "shape": ""
          }
         },
         "name": "Wholesale and retail trade; repair of motor vehicles and motorcycles",
         "offsetgroup": "Wholesale and retail trade; repair of motor vehicles and motorcycles",
         "orientation": "v",
         "showlegend": true,
         "type": "histogram",
         "x": [
          "G"
         ],
         "xaxis": "x",
         "y": [
          12127
         ],
         "yaxis": "y"
        },
        {
         "alignmentgroup": "True",
         "bingroup": "x",
         "histfunc": "avg",
         "hovertemplate": "Industry=Transport and storage<br>Letter code=%{x}<br>avg of 1990=%{y}<extra></extra>",
         "legendgroup": "Transport and storage",
         "marker": {
          "color": "#B6E880",
          "pattern": {
           "shape": ""
          }
         },
         "name": "Transport and storage",
         "offsetgroup": "Transport and storage",
         "orientation": "v",
         "showlegend": true,
         "type": "histogram",
         "x": [
          "H"
         ],
         "xaxis": "x",
         "y": [
          66667.4
         ],
         "yaxis": "y"
        },
        {
         "alignmentgroup": "True",
         "bingroup": "x",
         "histfunc": "avg",
         "hovertemplate": "Industry=Accommodation and food services<br>Letter code=%{x}<br>avg of 1990=%{y}<extra></extra>",
         "legendgroup": "Accommodation and food services",
         "marker": {
          "color": "#FF97FF",
          "pattern": {
           "shape": ""
          }
         },
         "name": "Accommodation and food services",
         "offsetgroup": "Accommodation and food services",
         "orientation": "v",
         "showlegend": true,
         "type": "histogram",
         "x": [
          "I"
         ],
         "xaxis": "x",
         "y": [
          3139.2
         ],
         "yaxis": "y"
        },
        {
         "alignmentgroup": "True",
         "bingroup": "x",
         "histfunc": "avg",
         "hovertemplate": "Industry=Information and communication<br>Letter code=%{x}<br>avg of 1990=%{y}<extra></extra>",
         "legendgroup": "Information and communication",
         "marker": {
          "color": "#FECB52",
          "pattern": {
           "shape": ""
          }
         },
         "name": "Information and communication",
         "offsetgroup": "Information and communication",
         "orientation": "v",
         "showlegend": true,
         "type": "histogram",
         "x": [
          "J"
         ],
         "xaxis": "x",
         "y": [
          1199.4
         ],
         "yaxis": "y"
        },
        {
         "alignmentgroup": "True",
         "bingroup": "x",
         "histfunc": "avg",
         "hovertemplate": "Industry=Financial and insurance activities<br>Letter code=%{x}<br>avg of 1990=%{y}<extra></extra>",
         "legendgroup": "Financial and insurance activities",
         "marker": {
          "color": "#636efa",
          "pattern": {
           "shape": ""
          }
         },
         "name": "Financial and insurance activities",
         "offsetgroup": "Financial and insurance activities",
         "orientation": "v",
         "showlegend": true,
         "type": "histogram",
         "x": [
          "K"
         ],
         "xaxis": "x",
         "y": [
          345
         ],
         "yaxis": "y"
        },
        {
         "alignmentgroup": "True",
         "bingroup": "x",
         "histfunc": "avg",
         "hovertemplate": "Industry=Real estate activities<br>Letter code=%{x}<br>avg of 1990=%{y}<extra></extra>",
         "legendgroup": "Real estate activities",
         "marker": {
          "color": "#EF553B",
          "pattern": {
           "shape": ""
          }
         },
         "name": "Real estate activities",
         "offsetgroup": "Real estate activities",
         "orientation": "v",
         "showlegend": true,
         "type": "histogram",
         "x": [
          "L"
         ],
         "xaxis": "x",
         "y": [
          645.9
         ],
         "yaxis": "y"
        },
        {
         "alignmentgroup": "True",
         "bingroup": "x",
         "histfunc": "avg",
         "hovertemplate": "Industry=Professional, scientific and technical activities<br>Letter code=%{x}<br>avg of 1990=%{y}<extra></extra>",
         "legendgroup": "Professional, scientific and technical activities",
         "marker": {
          "color": "#00cc96",
          "pattern": {
           "shape": ""
          }
         },
         "name": "Professional, scientific and technical activities",
         "offsetgroup": "Professional, scientific and technical activities",
         "orientation": "v",
         "showlegend": true,
         "type": "histogram",
         "x": [
          "M"
         ],
         "xaxis": "x",
         "y": [
          2568.7
         ],
         "yaxis": "y"
        },
        {
         "alignmentgroup": "True",
         "bingroup": "x",
         "histfunc": "avg",
         "hovertemplate": "Industry=Administrative and support service activities<br>Letter code=%{x}<br>avg of 1990=%{y}<extra></extra>",
         "legendgroup": "Administrative and support service activities",
         "marker": {
          "color": "#ab63fa",
          "pattern": {
           "shape": ""
          }
         },
         "name": "Administrative and support service activities",
         "offsetgroup": "Administrative and support service activities",
         "orientation": "v",
         "showlegend": true,
         "type": "histogram",
         "x": [
          "N"
         ],
         "xaxis": "x",
         "y": [
          2934.8
         ],
         "yaxis": "y"
        },
        {
         "alignmentgroup": "True",
         "bingroup": "x",
         "histfunc": "avg",
         "hovertemplate": "Industry=Public administration and defence; compulsory social security<br>Letter code=%{x}<br>avg of 1990=%{y}<extra></extra>",
         "legendgroup": "Public administration and defence; compulsory social security",
         "marker": {
          "color": "#FFA15A",
          "pattern": {
           "shape": ""
          }
         },
         "name": "Public administration and defence; compulsory social security",
         "offsetgroup": "Public administration and defence; compulsory social security",
         "orientation": "v",
         "showlegend": true,
         "type": "histogram",
         "x": [
          "O"
         ],
         "xaxis": "x",
         "y": [
          12375.8
         ],
         "yaxis": "y"
        },
        {
         "alignmentgroup": "True",
         "bingroup": "x",
         "histfunc": "avg",
         "hovertemplate": "Industry=Education<br>Letter code=%{x}<br>avg of 1990=%{y}<extra></extra>",
         "legendgroup": "Education",
         "marker": {
          "color": "#19d3f3",
          "pattern": {
           "shape": ""
          }
         },
         "name": "Education",
         "offsetgroup": "Education",
         "orientation": "v",
         "showlegend": true,
         "type": "histogram",
         "x": [
          "P"
         ],
         "xaxis": "x",
         "y": [
          6393
         ],
         "yaxis": "y"
        },
        {
         "alignmentgroup": "True",
         "bingroup": "x",
         "histfunc": "avg",
         "hovertemplate": "Industry=Human health and social work activities<br>Letter code=%{x}<br>avg of 1990=%{y}<extra></extra>",
         "legendgroup": "Human health and social work activities",
         "marker": {
          "color": "#FF6692",
          "pattern": {
           "shape": ""
          }
         },
         "name": "Human health and social work activities",
         "offsetgroup": "Human health and social work activities",
         "orientation": "v",
         "showlegend": true,
         "type": "histogram",
         "x": [
          "Q"
         ],
         "xaxis": "x",
         "y": [
          6151.5
         ],
         "yaxis": "y"
        },
        {
         "alignmentgroup": "True",
         "bingroup": "x",
         "histfunc": "avg",
         "hovertemplate": "Industry=Arts, entertainment and recreation<br>Letter code=%{x}<br>avg of 1990=%{y}<extra></extra>",
         "legendgroup": "Arts, entertainment and recreation",
         "marker": {
          "color": "#B6E880",
          "pattern": {
           "shape": ""
          }
         },
         "name": "Arts, entertainment and recreation",
         "offsetgroup": "Arts, entertainment and recreation",
         "orientation": "v",
         "showlegend": true,
         "type": "histogram",
         "x": [
          "R"
         ],
         "xaxis": "x",
         "y": [
          1797.7
         ],
         "yaxis": "y"
        },
        {
         "alignmentgroup": "True",
         "bingroup": "x",
         "histfunc": "avg",
         "hovertemplate": "Industry=Other service activities<br>Letter code=%{x}<br>avg of 1990=%{y}<extra></extra>",
         "legendgroup": "Other service activities",
         "marker": {
          "color": "#FF97FF",
          "pattern": {
           "shape": ""
          }
         },
         "name": "Other service activities",
         "offsetgroup": "Other service activities",
         "orientation": "v",
         "showlegend": true,
         "type": "histogram",
         "x": [
          "S"
         ],
         "xaxis": "x",
         "y": [
          1162.8
         ],
         "yaxis": "y"
        },
        {
         "alignmentgroup": "True",
         "bingroup": "x",
         "histfunc": "avg",
         "hovertemplate": "Industry=Activities of households as employers; undifferentiated goods and services-producing activities of households for own use<br>Letter code=%{x}<br>avg of 1990=%{y}<extra></extra>",
         "legendgroup": "Activities of households as employers; undifferentiated goods and services-producing activities of households for own use",
         "marker": {
          "color": "#FECB52",
          "pattern": {
           "shape": ""
          }
         },
         "name": "Activities of households as employers; undifferentiated goods and services-producing activities of households for own use",
         "offsetgroup": "Activities of households as employers; undifferentiated goods and services-producing activities of households for own use",
         "orientation": "v",
         "showlegend": true,
         "type": "histogram",
         "x": [
          "T"
         ],
         "xaxis": "x",
         "y": [
          76.3
         ],
         "yaxis": "y"
        },
        {
         "alignmentgroup": "True",
         "bingroup": "x",
         "histfunc": "avg",
         "hovertemplate": "Industry=Consumer expenditure<br>Letter code=%{x}<br>avg of 1990=%{y}<extra></extra>",
         "legendgroup": "Consumer expenditure",
         "marker": {
          "color": "#636efa",
          "pattern": {
           "shape": ""
          }
         },
         "name": "Consumer expenditure",
         "offsetgroup": "Consumer expenditure",
         "orientation": "v",
         "showlegend": true,
         "type": "histogram",
         "x": [
          "U"
         ],
         "xaxis": "x",
         "y": [
          143893.7
         ],
         "yaxis": "y"
        },
        {
         "alignmentgroup": "True",
         "bingroup": "x",
         "histfunc": "avg",
         "hovertemplate": "Industry=Total greenhouse gas emissions<br>Letter code=%{x}<br>avg of 1990=%{y}<extra></extra>",
         "legendgroup": "Total greenhouse gas emissions",
         "marker": {
          "color": "#EF553B",
          "pattern": {
           "shape": ""
          }
         },
         "name": "Total greenhouse gas emissions",
         "offsetgroup": "Total greenhouse gas emissions",
         "orientation": "v",
         "showlegend": true,
         "type": "histogram",
         "x": [
          null
         ],
         "xaxis": "x",
         "y": [
          842944.6
         ],
         "yaxis": "y"
        }
       ],
       "layout": {
        "barmode": "relative",
        "legend": {
         "title": {
          "text": "Industry"
         },
         "tracegroupgap": 0
        },
        "margin": {
         "t": 60
        },
        "template": {
         "data": {
          "bar": [
           {
            "error_x": {
             "color": "#2a3f5f"
            },
            "error_y": {
             "color": "#2a3f5f"
            },
            "marker": {
             "line": {
              "color": "#E5ECF6",
              "width": 0.5
             },
             "pattern": {
              "fillmode": "overlay",
              "size": 10,
              "solidity": 0.2
             }
            },
            "type": "bar"
           }
          ],
          "barpolar": [
           {
            "marker": {
             "line": {
              "color": "#E5ECF6",
              "width": 0.5
             },
             "pattern": {
              "fillmode": "overlay",
              "size": 10,
              "solidity": 0.2
             }
            },
            "type": "barpolar"
           }
          ],
          "carpet": [
           {
            "aaxis": {
             "endlinecolor": "#2a3f5f",
             "gridcolor": "white",
             "linecolor": "white",
             "minorgridcolor": "white",
             "startlinecolor": "#2a3f5f"
            },
            "baxis": {
             "endlinecolor": "#2a3f5f",
             "gridcolor": "white",
             "linecolor": "white",
             "minorgridcolor": "white",
             "startlinecolor": "#2a3f5f"
            },
            "type": "carpet"
           }
          ],
          "choropleth": [
           {
            "colorbar": {
             "outlinewidth": 0,
             "ticks": ""
            },
            "type": "choropleth"
           }
          ],
          "contour": [
           {
            "colorbar": {
             "outlinewidth": 0,
             "ticks": ""
            },
            "colorscale": [
             [
              0,
              "#0d0887"
             ],
             [
              0.1111111111111111,
              "#46039f"
             ],
             [
              0.2222222222222222,
              "#7201a8"
             ],
             [
              0.3333333333333333,
              "#9c179e"
             ],
             [
              0.4444444444444444,
              "#bd3786"
             ],
             [
              0.5555555555555556,
              "#d8576b"
             ],
             [
              0.6666666666666666,
              "#ed7953"
             ],
             [
              0.7777777777777778,
              "#fb9f3a"
             ],
             [
              0.8888888888888888,
              "#fdca26"
             ],
             [
              1,
              "#f0f921"
             ]
            ],
            "type": "contour"
           }
          ],
          "contourcarpet": [
           {
            "colorbar": {
             "outlinewidth": 0,
             "ticks": ""
            },
            "type": "contourcarpet"
           }
          ],
          "heatmap": [
           {
            "colorbar": {
             "outlinewidth": 0,
             "ticks": ""
            },
            "colorscale": [
             [
              0,
              "#0d0887"
             ],
             [
              0.1111111111111111,
              "#46039f"
             ],
             [
              0.2222222222222222,
              "#7201a8"
             ],
             [
              0.3333333333333333,
              "#9c179e"
             ],
             [
              0.4444444444444444,
              "#bd3786"
             ],
             [
              0.5555555555555556,
              "#d8576b"
             ],
             [
              0.6666666666666666,
              "#ed7953"
             ],
             [
              0.7777777777777778,
              "#fb9f3a"
             ],
             [
              0.8888888888888888,
              "#fdca26"
             ],
             [
              1,
              "#f0f921"
             ]
            ],
            "type": "heatmap"
           }
          ],
          "heatmapgl": [
           {
            "colorbar": {
             "outlinewidth": 0,
             "ticks": ""
            },
            "colorscale": [
             [
              0,
              "#0d0887"
             ],
             [
              0.1111111111111111,
              "#46039f"
             ],
             [
              0.2222222222222222,
              "#7201a8"
             ],
             [
              0.3333333333333333,
              "#9c179e"
             ],
             [
              0.4444444444444444,
              "#bd3786"
             ],
             [
              0.5555555555555556,
              "#d8576b"
             ],
             [
              0.6666666666666666,
              "#ed7953"
             ],
             [
              0.7777777777777778,
              "#fb9f3a"
             ],
             [
              0.8888888888888888,
              "#fdca26"
             ],
             [
              1,
              "#f0f921"
             ]
            ],
            "type": "heatmapgl"
           }
          ],
          "histogram": [
           {
            "marker": {
             "pattern": {
              "fillmode": "overlay",
              "size": 10,
              "solidity": 0.2
             }
            },
            "type": "histogram"
           }
          ],
          "histogram2d": [
           {
            "colorbar": {
             "outlinewidth": 0,
             "ticks": ""
            },
            "colorscale": [
             [
              0,
              "#0d0887"
             ],
             [
              0.1111111111111111,
              "#46039f"
             ],
             [
              0.2222222222222222,
              "#7201a8"
             ],
             [
              0.3333333333333333,
              "#9c179e"
             ],
             [
              0.4444444444444444,
              "#bd3786"
             ],
             [
              0.5555555555555556,
              "#d8576b"
             ],
             [
              0.6666666666666666,
              "#ed7953"
             ],
             [
              0.7777777777777778,
              "#fb9f3a"
             ],
             [
              0.8888888888888888,
              "#fdca26"
             ],
             [
              1,
              "#f0f921"
             ]
            ],
            "type": "histogram2d"
           }
          ],
          "histogram2dcontour": [
           {
            "colorbar": {
             "outlinewidth": 0,
             "ticks": ""
            },
            "colorscale": [
             [
              0,
              "#0d0887"
             ],
             [
              0.1111111111111111,
              "#46039f"
             ],
             [
              0.2222222222222222,
              "#7201a8"
             ],
             [
              0.3333333333333333,
              "#9c179e"
             ],
             [
              0.4444444444444444,
              "#bd3786"
             ],
             [
              0.5555555555555556,
              "#d8576b"
             ],
             [
              0.6666666666666666,
              "#ed7953"
             ],
             [
              0.7777777777777778,
              "#fb9f3a"
             ],
             [
              0.8888888888888888,
              "#fdca26"
             ],
             [
              1,
              "#f0f921"
             ]
            ],
            "type": "histogram2dcontour"
           }
          ],
          "mesh3d": [
           {
            "colorbar": {
             "outlinewidth": 0,
             "ticks": ""
            },
            "type": "mesh3d"
           }
          ],
          "parcoords": [
           {
            "line": {
             "colorbar": {
              "outlinewidth": 0,
              "ticks": ""
             }
            },
            "type": "parcoords"
           }
          ],
          "pie": [
           {
            "automargin": true,
            "type": "pie"
           }
          ],
          "scatter": [
           {
            "fillpattern": {
             "fillmode": "overlay",
             "size": 10,
             "solidity": 0.2
            },
            "type": "scatter"
           }
          ],
          "scatter3d": [
           {
            "line": {
             "colorbar": {
              "outlinewidth": 0,
              "ticks": ""
             }
            },
            "marker": {
             "colorbar": {
              "outlinewidth": 0,
              "ticks": ""
             }
            },
            "type": "scatter3d"
           }
          ],
          "scattercarpet": [
           {
            "marker": {
             "colorbar": {
              "outlinewidth": 0,
              "ticks": ""
             }
            },
            "type": "scattercarpet"
           }
          ],
          "scattergeo": [
           {
            "marker": {
             "colorbar": {
              "outlinewidth": 0,
              "ticks": ""
             }
            },
            "type": "scattergeo"
           }
          ],
          "scattergl": [
           {
            "marker": {
             "colorbar": {
              "outlinewidth": 0,
              "ticks": ""
             }
            },
            "type": "scattergl"
           }
          ],
          "scattermapbox": [
           {
            "marker": {
             "colorbar": {
              "outlinewidth": 0,
              "ticks": ""
             }
            },
            "type": "scattermapbox"
           }
          ],
          "scatterpolar": [
           {
            "marker": {
             "colorbar": {
              "outlinewidth": 0,
              "ticks": ""
             }
            },
            "type": "scatterpolar"
           }
          ],
          "scatterpolargl": [
           {
            "marker": {
             "colorbar": {
              "outlinewidth": 0,
              "ticks": ""
             }
            },
            "type": "scatterpolargl"
           }
          ],
          "scatterternary": [
           {
            "marker": {
             "colorbar": {
              "outlinewidth": 0,
              "ticks": ""
             }
            },
            "type": "scatterternary"
           }
          ],
          "surface": [
           {
            "colorbar": {
             "outlinewidth": 0,
             "ticks": ""
            },
            "colorscale": [
             [
              0,
              "#0d0887"
             ],
             [
              0.1111111111111111,
              "#46039f"
             ],
             [
              0.2222222222222222,
              "#7201a8"
             ],
             [
              0.3333333333333333,
              "#9c179e"
             ],
             [
              0.4444444444444444,
              "#bd3786"
             ],
             [
              0.5555555555555556,
              "#d8576b"
             ],
             [
              0.6666666666666666,
              "#ed7953"
             ],
             [
              0.7777777777777778,
              "#fb9f3a"
             ],
             [
              0.8888888888888888,
              "#fdca26"
             ],
             [
              1,
              "#f0f921"
             ]
            ],
            "type": "surface"
           }
          ],
          "table": [
           {
            "cells": {
             "fill": {
              "color": "#EBF0F8"
             },
             "line": {
              "color": "white"
             }
            },
            "header": {
             "fill": {
              "color": "#C8D4E3"
             },
             "line": {
              "color": "white"
             }
            },
            "type": "table"
           }
          ]
         },
         "layout": {
          "annotationdefaults": {
           "arrowcolor": "#2a3f5f",
           "arrowhead": 0,
           "arrowwidth": 1
          },
          "autotypenumbers": "strict",
          "coloraxis": {
           "colorbar": {
            "outlinewidth": 0,
            "ticks": ""
           }
          },
          "colorscale": {
           "diverging": [
            [
             0,
             "#8e0152"
            ],
            [
             0.1,
             "#c51b7d"
            ],
            [
             0.2,
             "#de77ae"
            ],
            [
             0.3,
             "#f1b6da"
            ],
            [
             0.4,
             "#fde0ef"
            ],
            [
             0.5,
             "#f7f7f7"
            ],
            [
             0.6,
             "#e6f5d0"
            ],
            [
             0.7,
             "#b8e186"
            ],
            [
             0.8,
             "#7fbc41"
            ],
            [
             0.9,
             "#4d9221"
            ],
            [
             1,
             "#276419"
            ]
           ],
           "sequential": [
            [
             0,
             "#0d0887"
            ],
            [
             0.1111111111111111,
             "#46039f"
            ],
            [
             0.2222222222222222,
             "#7201a8"
            ],
            [
             0.3333333333333333,
             "#9c179e"
            ],
            [
             0.4444444444444444,
             "#bd3786"
            ],
            [
             0.5555555555555556,
             "#d8576b"
            ],
            [
             0.6666666666666666,
             "#ed7953"
            ],
            [
             0.7777777777777778,
             "#fb9f3a"
            ],
            [
             0.8888888888888888,
             "#fdca26"
            ],
            [
             1,
             "#f0f921"
            ]
           ],
           "sequentialminus": [
            [
             0,
             "#0d0887"
            ],
            [
             0.1111111111111111,
             "#46039f"
            ],
            [
             0.2222222222222222,
             "#7201a8"
            ],
            [
             0.3333333333333333,
             "#9c179e"
            ],
            [
             0.4444444444444444,
             "#bd3786"
            ],
            [
             0.5555555555555556,
             "#d8576b"
            ],
            [
             0.6666666666666666,
             "#ed7953"
            ],
            [
             0.7777777777777778,
             "#fb9f3a"
            ],
            [
             0.8888888888888888,
             "#fdca26"
            ],
            [
             1,
             "#f0f921"
            ]
           ]
          },
          "colorway": [
           "#636efa",
           "#EF553B",
           "#00cc96",
           "#ab63fa",
           "#FFA15A",
           "#19d3f3",
           "#FF6692",
           "#B6E880",
           "#FF97FF",
           "#FECB52"
          ],
          "font": {
           "color": "#2a3f5f"
          },
          "geo": {
           "bgcolor": "white",
           "lakecolor": "white",
           "landcolor": "#E5ECF6",
           "showlakes": true,
           "showland": true,
           "subunitcolor": "white"
          },
          "hoverlabel": {
           "align": "left"
          },
          "hovermode": "closest",
          "mapbox": {
           "style": "light"
          },
          "paper_bgcolor": "white",
          "plot_bgcolor": "#E5ECF6",
          "polar": {
           "angularaxis": {
            "gridcolor": "white",
            "linecolor": "white",
            "ticks": ""
           },
           "bgcolor": "#E5ECF6",
           "radialaxis": {
            "gridcolor": "white",
            "linecolor": "white",
            "ticks": ""
           }
          },
          "scene": {
           "xaxis": {
            "backgroundcolor": "#E5ECF6",
            "gridcolor": "white",
            "gridwidth": 2,
            "linecolor": "white",
            "showbackground": true,
            "ticks": "",
            "zerolinecolor": "white"
           },
           "yaxis": {
            "backgroundcolor": "#E5ECF6",
            "gridcolor": "white",
            "gridwidth": 2,
            "linecolor": "white",
            "showbackground": true,
            "ticks": "",
            "zerolinecolor": "white"
           },
           "zaxis": {
            "backgroundcolor": "#E5ECF6",
            "gridcolor": "white",
            "gridwidth": 2,
            "linecolor": "white",
            "showbackground": true,
            "ticks": "",
            "zerolinecolor": "white"
           }
          },
          "shapedefaults": {
           "line": {
            "color": "#2a3f5f"
           }
          },
          "ternary": {
           "aaxis": {
            "gridcolor": "white",
            "linecolor": "white",
            "ticks": ""
           },
           "baxis": {
            "gridcolor": "white",
            "linecolor": "white",
            "ticks": ""
           },
           "bgcolor": "#E5ECF6",
           "caxis": {
            "gridcolor": "white",
            "linecolor": "white",
            "ticks": ""
           }
          },
          "title": {
           "x": 0.05
          },
          "xaxis": {
           "automargin": true,
           "gridcolor": "white",
           "linecolor": "white",
           "ticks": "",
           "title": {
            "standoff": 15
           },
           "zerolinecolor": "white",
           "zerolinewidth": 2
          },
          "yaxis": {
           "automargin": true,
           "gridcolor": "white",
           "linecolor": "white",
           "ticks": "",
           "title": {
            "standoff": 15
           },
           "zerolinecolor": "white",
           "zerolinewidth": 2
          }
         }
        },
        "xaxis": {
         "anchor": "y",
         "categoryorder": "total descending",
         "domain": [
          0,
          1
         ],
         "title": {
          "text": "Letter code"
         }
        },
        "yaxis": {
         "anchor": "x",
         "domain": [
          0,
          1
         ],
         "title": {
          "text": "avg of 1990"
         }
        }
       }
      },
      "text/html": [
       "<div>                            <div id=\"f6d47e70-c8d0-4e52-a720-57f41001015a\" class=\"plotly-graph-div\" style=\"height:525px; width:100%;\"></div>            <script type=\"text/javascript\">                require([\"plotly\"], function(Plotly) {                    window.PLOTLYENV=window.PLOTLYENV || {};                                    if (document.getElementById(\"f6d47e70-c8d0-4e52-a720-57f41001015a\")) {                    Plotly.newPlot(                        \"f6d47e70-c8d0-4e52-a720-57f41001015a\",                        [{\"alignmentgroup\":\"True\",\"bingroup\":\"x\",\"histfunc\":\"avg\",\"hovertemplate\":\"Industry=Agriculture, forestry and fishing<br>Letter code=%{x}<br>avg of 1990=%{y}<extra></extra>\",\"legendgroup\":\"Agriculture, forestry and fishing\",\"marker\":{\"color\":\"#636efa\",\"pattern\":{\"shape\":\"\"}},\"name\":\"Agriculture, forestry and fishing\",\"offsetgroup\":\"Agriculture, forestry and fishing\",\"orientation\":\"v\",\"showlegend\":true,\"x\":[\"A\"],\"xaxis\":\"x\",\"y\":[55978.4],\"yaxis\":\"y\",\"type\":\"histogram\"},{\"alignmentgroup\":\"True\",\"bingroup\":\"x\",\"histfunc\":\"avg\",\"hovertemplate\":\"Industry=Mining and quarrying<br>Letter code=%{x}<br>avg of 1990=%{y}<extra></extra>\",\"legendgroup\":\"Mining and quarrying\",\"marker\":{\"color\":\"#EF553B\",\"pattern\":{\"shape\":\"\"}},\"name\":\"Mining and quarrying\",\"offsetgroup\":\"Mining and quarrying\",\"orientation\":\"v\",\"showlegend\":true,\"x\":[\"B\"],\"xaxis\":\"x\",\"y\":[50762.1],\"yaxis\":\"y\",\"type\":\"histogram\"},{\"alignmentgroup\":\"True\",\"bingroup\":\"x\",\"histfunc\":\"avg\",\"hovertemplate\":\"Industry=Manufacturing<br>Letter code=%{x}<br>avg of 1990=%{y}<extra></extra>\",\"legendgroup\":\"Manufacturing\",\"marker\":{\"color\":\"#00cc96\",\"pattern\":{\"shape\":\"\"}},\"name\":\"Manufacturing\",\"offsetgroup\":\"Manufacturing\",\"orientation\":\"v\",\"showlegend\":true,\"x\":[\"C\"],\"xaxis\":\"x\",\"y\":[176067.9],\"yaxis\":\"y\",\"type\":\"histogram\"},{\"alignmentgroup\":\"True\",\"bingroup\":\"x\",\"histfunc\":\"avg\",\"hovertemplate\":\"Industry=Electricity, gas, steam and air conditioning supply<br>Letter code=%{x}<br>avg of 1990=%{y}<extra></extra>\",\"legendgroup\":\"Electricity, gas, steam and air conditioning supply\",\"marker\":{\"color\":\"#ab63fa\",\"pattern\":{\"shape\":\"\"}},\"name\":\"Electricity, gas, steam and air conditioning supply\",\"offsetgroup\":\"Electricity, gas, steam and air conditioning supply\",\"orientation\":\"v\",\"showlegend\":true,\"x\":[\"D\"],\"xaxis\":\"x\",\"y\":[217638.6],\"yaxis\":\"y\",\"type\":\"histogram\"},{\"alignmentgroup\":\"True\",\"bingroup\":\"x\",\"histfunc\":\"avg\",\"hovertemplate\":\"Industry=Water supply; sewerage, waste management and remediation activities<br>Letter code=%{x}<br>avg of 1990=%{y}<extra></extra>\",\"legendgroup\":\"Water supply; sewerage, waste management and remediation activities\",\"marker\":{\"color\":\"#FFA15A\",\"pattern\":{\"shape\":\"\"}},\"name\":\"Water supply; sewerage, waste management and remediation activities\",\"offsetgroup\":\"Water supply; sewerage, waste management and remediation activities\",\"orientation\":\"v\",\"showlegend\":true,\"x\":[\"E\"],\"xaxis\":\"x\",\"y\":[75232.5],\"yaxis\":\"y\",\"type\":\"histogram\"},{\"alignmentgroup\":\"True\",\"bingroup\":\"x\",\"histfunc\":\"avg\",\"hovertemplate\":\"Industry=Construction<br>Letter code=%{x}<br>avg of 1990=%{y}<extra></extra>\",\"legendgroup\":\"Construction\",\"marker\":{\"color\":\"#19d3f3\",\"pattern\":{\"shape\":\"\"}},\"name\":\"Construction\",\"offsetgroup\":\"Construction\",\"orientation\":\"v\",\"showlegend\":true,\"x\":[\"F\"],\"xaxis\":\"x\",\"y\":[5786.8],\"yaxis\":\"y\",\"type\":\"histogram\"},{\"alignmentgroup\":\"True\",\"bingroup\":\"x\",\"histfunc\":\"avg\",\"hovertemplate\":\"Industry=Wholesale and retail trade; repair of motor vehicles and motorcycles<br>Letter code=%{x}<br>avg of 1990=%{y}<extra></extra>\",\"legendgroup\":\"Wholesale and retail trade; repair of motor vehicles and motorcycles\",\"marker\":{\"color\":\"#FF6692\",\"pattern\":{\"shape\":\"\"}},\"name\":\"Wholesale and retail trade; repair of motor vehicles and motorcycles\",\"offsetgroup\":\"Wholesale and retail trade; repair of motor vehicles and motorcycles\",\"orientation\":\"v\",\"showlegend\":true,\"x\":[\"G\"],\"xaxis\":\"x\",\"y\":[12127],\"yaxis\":\"y\",\"type\":\"histogram\"},{\"alignmentgroup\":\"True\",\"bingroup\":\"x\",\"histfunc\":\"avg\",\"hovertemplate\":\"Industry=Transport and storage<br>Letter code=%{x}<br>avg of 1990=%{y}<extra></extra>\",\"legendgroup\":\"Transport and storage\",\"marker\":{\"color\":\"#B6E880\",\"pattern\":{\"shape\":\"\"}},\"name\":\"Transport and storage\",\"offsetgroup\":\"Transport and storage\",\"orientation\":\"v\",\"showlegend\":true,\"x\":[\"H\"],\"xaxis\":\"x\",\"y\":[66667.4],\"yaxis\":\"y\",\"type\":\"histogram\"},{\"alignmentgroup\":\"True\",\"bingroup\":\"x\",\"histfunc\":\"avg\",\"hovertemplate\":\"Industry=Accommodation and food services<br>Letter code=%{x}<br>avg of 1990=%{y}<extra></extra>\",\"legendgroup\":\"Accommodation and food services\",\"marker\":{\"color\":\"#FF97FF\",\"pattern\":{\"shape\":\"\"}},\"name\":\"Accommodation and food services\",\"offsetgroup\":\"Accommodation and food services\",\"orientation\":\"v\",\"showlegend\":true,\"x\":[\"I\"],\"xaxis\":\"x\",\"y\":[3139.2],\"yaxis\":\"y\",\"type\":\"histogram\"},{\"alignmentgroup\":\"True\",\"bingroup\":\"x\",\"histfunc\":\"avg\",\"hovertemplate\":\"Industry=Information and communication<br>Letter code=%{x}<br>avg of 1990=%{y}<extra></extra>\",\"legendgroup\":\"Information and communication\",\"marker\":{\"color\":\"#FECB52\",\"pattern\":{\"shape\":\"\"}},\"name\":\"Information and communication\",\"offsetgroup\":\"Information and communication\",\"orientation\":\"v\",\"showlegend\":true,\"x\":[\"J\"],\"xaxis\":\"x\",\"y\":[1199.4],\"yaxis\":\"y\",\"type\":\"histogram\"},{\"alignmentgroup\":\"True\",\"bingroup\":\"x\",\"histfunc\":\"avg\",\"hovertemplate\":\"Industry=Financial and insurance activities<br>Letter code=%{x}<br>avg of 1990=%{y}<extra></extra>\",\"legendgroup\":\"Financial and insurance activities\",\"marker\":{\"color\":\"#636efa\",\"pattern\":{\"shape\":\"\"}},\"name\":\"Financial and insurance activities\",\"offsetgroup\":\"Financial and insurance activities\",\"orientation\":\"v\",\"showlegend\":true,\"x\":[\"K\"],\"xaxis\":\"x\",\"y\":[345],\"yaxis\":\"y\",\"type\":\"histogram\"},{\"alignmentgroup\":\"True\",\"bingroup\":\"x\",\"histfunc\":\"avg\",\"hovertemplate\":\"Industry=Real estate activities<br>Letter code=%{x}<br>avg of 1990=%{y}<extra></extra>\",\"legendgroup\":\"Real estate activities\",\"marker\":{\"color\":\"#EF553B\",\"pattern\":{\"shape\":\"\"}},\"name\":\"Real estate activities\",\"offsetgroup\":\"Real estate activities\",\"orientation\":\"v\",\"showlegend\":true,\"x\":[\"L\"],\"xaxis\":\"x\",\"y\":[645.9],\"yaxis\":\"y\",\"type\":\"histogram\"},{\"alignmentgroup\":\"True\",\"bingroup\":\"x\",\"histfunc\":\"avg\",\"hovertemplate\":\"Industry=Professional, scientific and technical activities<br>Letter code=%{x}<br>avg of 1990=%{y}<extra></extra>\",\"legendgroup\":\"Professional, scientific and technical activities\",\"marker\":{\"color\":\"#00cc96\",\"pattern\":{\"shape\":\"\"}},\"name\":\"Professional, scientific and technical activities\",\"offsetgroup\":\"Professional, scientific and technical activities\",\"orientation\":\"v\",\"showlegend\":true,\"x\":[\"M\"],\"xaxis\":\"x\",\"y\":[2568.7],\"yaxis\":\"y\",\"type\":\"histogram\"},{\"alignmentgroup\":\"True\",\"bingroup\":\"x\",\"histfunc\":\"avg\",\"hovertemplate\":\"Industry=Administrative and support service activities<br>Letter code=%{x}<br>avg of 1990=%{y}<extra></extra>\",\"legendgroup\":\"Administrative and support service activities\",\"marker\":{\"color\":\"#ab63fa\",\"pattern\":{\"shape\":\"\"}},\"name\":\"Administrative and support service activities\",\"offsetgroup\":\"Administrative and support service activities\",\"orientation\":\"v\",\"showlegend\":true,\"x\":[\"N\"],\"xaxis\":\"x\",\"y\":[2934.8],\"yaxis\":\"y\",\"type\":\"histogram\"},{\"alignmentgroup\":\"True\",\"bingroup\":\"x\",\"histfunc\":\"avg\",\"hovertemplate\":\"Industry=Public administration and defence; compulsory social security<br>Letter code=%{x}<br>avg of 1990=%{y}<extra></extra>\",\"legendgroup\":\"Public administration and defence; compulsory social security\",\"marker\":{\"color\":\"#FFA15A\",\"pattern\":{\"shape\":\"\"}},\"name\":\"Public administration and defence; compulsory social security\",\"offsetgroup\":\"Public administration and defence; compulsory social security\",\"orientation\":\"v\",\"showlegend\":true,\"x\":[\"O\"],\"xaxis\":\"x\",\"y\":[12375.8],\"yaxis\":\"y\",\"type\":\"histogram\"},{\"alignmentgroup\":\"True\",\"bingroup\":\"x\",\"histfunc\":\"avg\",\"hovertemplate\":\"Industry=Education<br>Letter code=%{x}<br>avg of 1990=%{y}<extra></extra>\",\"legendgroup\":\"Education\",\"marker\":{\"color\":\"#19d3f3\",\"pattern\":{\"shape\":\"\"}},\"name\":\"Education\",\"offsetgroup\":\"Education\",\"orientation\":\"v\",\"showlegend\":true,\"x\":[\"P\"],\"xaxis\":\"x\",\"y\":[6393],\"yaxis\":\"y\",\"type\":\"histogram\"},{\"alignmentgroup\":\"True\",\"bingroup\":\"x\",\"histfunc\":\"avg\",\"hovertemplate\":\"Industry=Human health and social work activities<br>Letter code=%{x}<br>avg of 1990=%{y}<extra></extra>\",\"legendgroup\":\"Human health and social work activities\",\"marker\":{\"color\":\"#FF6692\",\"pattern\":{\"shape\":\"\"}},\"name\":\"Human health and social work activities\",\"offsetgroup\":\"Human health and social work activities\",\"orientation\":\"v\",\"showlegend\":true,\"x\":[\"Q\"],\"xaxis\":\"x\",\"y\":[6151.5],\"yaxis\":\"y\",\"type\":\"histogram\"},{\"alignmentgroup\":\"True\",\"bingroup\":\"x\",\"histfunc\":\"avg\",\"hovertemplate\":\"Industry=Arts, entertainment and recreation<br>Letter code=%{x}<br>avg of 1990=%{y}<extra></extra>\",\"legendgroup\":\"Arts, entertainment and recreation\",\"marker\":{\"color\":\"#B6E880\",\"pattern\":{\"shape\":\"\"}},\"name\":\"Arts, entertainment and recreation\",\"offsetgroup\":\"Arts, entertainment and recreation\",\"orientation\":\"v\",\"showlegend\":true,\"x\":[\"R\"],\"xaxis\":\"x\",\"y\":[1797.7],\"yaxis\":\"y\",\"type\":\"histogram\"},{\"alignmentgroup\":\"True\",\"bingroup\":\"x\",\"histfunc\":\"avg\",\"hovertemplate\":\"Industry=Other service activities<br>Letter code=%{x}<br>avg of 1990=%{y}<extra></extra>\",\"legendgroup\":\"Other service activities\",\"marker\":{\"color\":\"#FF97FF\",\"pattern\":{\"shape\":\"\"}},\"name\":\"Other service activities\",\"offsetgroup\":\"Other service activities\",\"orientation\":\"v\",\"showlegend\":true,\"x\":[\"S\"],\"xaxis\":\"x\",\"y\":[1162.8],\"yaxis\":\"y\",\"type\":\"histogram\"},{\"alignmentgroup\":\"True\",\"bingroup\":\"x\",\"histfunc\":\"avg\",\"hovertemplate\":\"Industry=Activities of households as employers; undifferentiated goods and services-producing activities of households for own use<br>Letter code=%{x}<br>avg of 1990=%{y}<extra></extra>\",\"legendgroup\":\"Activities of households as employers; undifferentiated goods and services-producing activities of households for own use\",\"marker\":{\"color\":\"#FECB52\",\"pattern\":{\"shape\":\"\"}},\"name\":\"Activities of households as employers; undifferentiated goods and services-producing activities of households for own use\",\"offsetgroup\":\"Activities of households as employers; undifferentiated goods and services-producing activities of households for own use\",\"orientation\":\"v\",\"showlegend\":true,\"x\":[\"T\"],\"xaxis\":\"x\",\"y\":[76.3],\"yaxis\":\"y\",\"type\":\"histogram\"},{\"alignmentgroup\":\"True\",\"bingroup\":\"x\",\"histfunc\":\"avg\",\"hovertemplate\":\"Industry=Consumer expenditure<br>Letter code=%{x}<br>avg of 1990=%{y}<extra></extra>\",\"legendgroup\":\"Consumer expenditure\",\"marker\":{\"color\":\"#636efa\",\"pattern\":{\"shape\":\"\"}},\"name\":\"Consumer expenditure\",\"offsetgroup\":\"Consumer expenditure\",\"orientation\":\"v\",\"showlegend\":true,\"x\":[\"U\"],\"xaxis\":\"x\",\"y\":[143893.7],\"yaxis\":\"y\",\"type\":\"histogram\"},{\"alignmentgroup\":\"True\",\"bingroup\":\"x\",\"histfunc\":\"avg\",\"hovertemplate\":\"Industry=Total greenhouse gas emissions<br>Letter code=%{x}<br>avg of 1990=%{y}<extra></extra>\",\"legendgroup\":\"Total greenhouse gas emissions\",\"marker\":{\"color\":\"#EF553B\",\"pattern\":{\"shape\":\"\"}},\"name\":\"Total greenhouse gas emissions\",\"offsetgroup\":\"Total greenhouse gas emissions\",\"orientation\":\"v\",\"showlegend\":true,\"x\":[null],\"xaxis\":\"x\",\"y\":[842944.6],\"yaxis\":\"y\",\"type\":\"histogram\"}],                        {\"template\":{\"data\":{\"histogram2dcontour\":[{\"type\":\"histogram2dcontour\",\"colorbar\":{\"outlinewidth\":0,\"ticks\":\"\"},\"colorscale\":[[0.0,\"#0d0887\"],[0.1111111111111111,\"#46039f\"],[0.2222222222222222,\"#7201a8\"],[0.3333333333333333,\"#9c179e\"],[0.4444444444444444,\"#bd3786\"],[0.5555555555555556,\"#d8576b\"],[0.6666666666666666,\"#ed7953\"],[0.7777777777777778,\"#fb9f3a\"],[0.8888888888888888,\"#fdca26\"],[1.0,\"#f0f921\"]]}],\"choropleth\":[{\"type\":\"choropleth\",\"colorbar\":{\"outlinewidth\":0,\"ticks\":\"\"}}],\"histogram2d\":[{\"type\":\"histogram2d\",\"colorbar\":{\"outlinewidth\":0,\"ticks\":\"\"},\"colorscale\":[[0.0,\"#0d0887\"],[0.1111111111111111,\"#46039f\"],[0.2222222222222222,\"#7201a8\"],[0.3333333333333333,\"#9c179e\"],[0.4444444444444444,\"#bd3786\"],[0.5555555555555556,\"#d8576b\"],[0.6666666666666666,\"#ed7953\"],[0.7777777777777778,\"#fb9f3a\"],[0.8888888888888888,\"#fdca26\"],[1.0,\"#f0f921\"]]}],\"heatmap\":[{\"type\":\"heatmap\",\"colorbar\":{\"outlinewidth\":0,\"ticks\":\"\"},\"colorscale\":[[0.0,\"#0d0887\"],[0.1111111111111111,\"#46039f\"],[0.2222222222222222,\"#7201a8\"],[0.3333333333333333,\"#9c179e\"],[0.4444444444444444,\"#bd3786\"],[0.5555555555555556,\"#d8576b\"],[0.6666666666666666,\"#ed7953\"],[0.7777777777777778,\"#fb9f3a\"],[0.8888888888888888,\"#fdca26\"],[1.0,\"#f0f921\"]]}],\"heatmapgl\":[{\"type\":\"heatmapgl\",\"colorbar\":{\"outlinewidth\":0,\"ticks\":\"\"},\"colorscale\":[[0.0,\"#0d0887\"],[0.1111111111111111,\"#46039f\"],[0.2222222222222222,\"#7201a8\"],[0.3333333333333333,\"#9c179e\"],[0.4444444444444444,\"#bd3786\"],[0.5555555555555556,\"#d8576b\"],[0.6666666666666666,\"#ed7953\"],[0.7777777777777778,\"#fb9f3a\"],[0.8888888888888888,\"#fdca26\"],[1.0,\"#f0f921\"]]}],\"contourcarpet\":[{\"type\":\"contourcarpet\",\"colorbar\":{\"outlinewidth\":0,\"ticks\":\"\"}}],\"contour\":[{\"type\":\"contour\",\"colorbar\":{\"outlinewidth\":0,\"ticks\":\"\"},\"colorscale\":[[0.0,\"#0d0887\"],[0.1111111111111111,\"#46039f\"],[0.2222222222222222,\"#7201a8\"],[0.3333333333333333,\"#9c179e\"],[0.4444444444444444,\"#bd3786\"],[0.5555555555555556,\"#d8576b\"],[0.6666666666666666,\"#ed7953\"],[0.7777777777777778,\"#fb9f3a\"],[0.8888888888888888,\"#fdca26\"],[1.0,\"#f0f921\"]]}],\"surface\":[{\"type\":\"surface\",\"colorbar\":{\"outlinewidth\":0,\"ticks\":\"\"},\"colorscale\":[[0.0,\"#0d0887\"],[0.1111111111111111,\"#46039f\"],[0.2222222222222222,\"#7201a8\"],[0.3333333333333333,\"#9c179e\"],[0.4444444444444444,\"#bd3786\"],[0.5555555555555556,\"#d8576b\"],[0.6666666666666666,\"#ed7953\"],[0.7777777777777778,\"#fb9f3a\"],[0.8888888888888888,\"#fdca26\"],[1.0,\"#f0f921\"]]}],\"mesh3d\":[{\"type\":\"mesh3d\",\"colorbar\":{\"outlinewidth\":0,\"ticks\":\"\"}}],\"scatter\":[{\"fillpattern\":{\"fillmode\":\"overlay\",\"size\":10,\"solidity\":0.2},\"type\":\"scatter\"}],\"parcoords\":[{\"type\":\"parcoords\",\"line\":{\"colorbar\":{\"outlinewidth\":0,\"ticks\":\"\"}}}],\"scatterpolargl\":[{\"type\":\"scatterpolargl\",\"marker\":{\"colorbar\":{\"outlinewidth\":0,\"ticks\":\"\"}}}],\"bar\":[{\"error_x\":{\"color\":\"#2a3f5f\"},\"error_y\":{\"color\":\"#2a3f5f\"},\"marker\":{\"line\":{\"color\":\"#E5ECF6\",\"width\":0.5},\"pattern\":{\"fillmode\":\"overlay\",\"size\":10,\"solidity\":0.2}},\"type\":\"bar\"}],\"scattergeo\":[{\"type\":\"scattergeo\",\"marker\":{\"colorbar\":{\"outlinewidth\":0,\"ticks\":\"\"}}}],\"scatterpolar\":[{\"type\":\"scatterpolar\",\"marker\":{\"colorbar\":{\"outlinewidth\":0,\"ticks\":\"\"}}}],\"histogram\":[{\"marker\":{\"pattern\":{\"fillmode\":\"overlay\",\"size\":10,\"solidity\":0.2}},\"type\":\"histogram\"}],\"scattergl\":[{\"type\":\"scattergl\",\"marker\":{\"colorbar\":{\"outlinewidth\":0,\"ticks\":\"\"}}}],\"scatter3d\":[{\"type\":\"scatter3d\",\"line\":{\"colorbar\":{\"outlinewidth\":0,\"ticks\":\"\"}},\"marker\":{\"colorbar\":{\"outlinewidth\":0,\"ticks\":\"\"}}}],\"scattermapbox\":[{\"type\":\"scattermapbox\",\"marker\":{\"colorbar\":{\"outlinewidth\":0,\"ticks\":\"\"}}}],\"scatterternary\":[{\"type\":\"scatterternary\",\"marker\":{\"colorbar\":{\"outlinewidth\":0,\"ticks\":\"\"}}}],\"scattercarpet\":[{\"type\":\"scattercarpet\",\"marker\":{\"colorbar\":{\"outlinewidth\":0,\"ticks\":\"\"}}}],\"carpet\":[{\"aaxis\":{\"endlinecolor\":\"#2a3f5f\",\"gridcolor\":\"white\",\"linecolor\":\"white\",\"minorgridcolor\":\"white\",\"startlinecolor\":\"#2a3f5f\"},\"baxis\":{\"endlinecolor\":\"#2a3f5f\",\"gridcolor\":\"white\",\"linecolor\":\"white\",\"minorgridcolor\":\"white\",\"startlinecolor\":\"#2a3f5f\"},\"type\":\"carpet\"}],\"table\":[{\"cells\":{\"fill\":{\"color\":\"#EBF0F8\"},\"line\":{\"color\":\"white\"}},\"header\":{\"fill\":{\"color\":\"#C8D4E3\"},\"line\":{\"color\":\"white\"}},\"type\":\"table\"}],\"barpolar\":[{\"marker\":{\"line\":{\"color\":\"#E5ECF6\",\"width\":0.5},\"pattern\":{\"fillmode\":\"overlay\",\"size\":10,\"solidity\":0.2}},\"type\":\"barpolar\"}],\"pie\":[{\"automargin\":true,\"type\":\"pie\"}]},\"layout\":{\"autotypenumbers\":\"strict\",\"colorway\":[\"#636efa\",\"#EF553B\",\"#00cc96\",\"#ab63fa\",\"#FFA15A\",\"#19d3f3\",\"#FF6692\",\"#B6E880\",\"#FF97FF\",\"#FECB52\"],\"font\":{\"color\":\"#2a3f5f\"},\"hovermode\":\"closest\",\"hoverlabel\":{\"align\":\"left\"},\"paper_bgcolor\":\"white\",\"plot_bgcolor\":\"#E5ECF6\",\"polar\":{\"bgcolor\":\"#E5ECF6\",\"angularaxis\":{\"gridcolor\":\"white\",\"linecolor\":\"white\",\"ticks\":\"\"},\"radialaxis\":{\"gridcolor\":\"white\",\"linecolor\":\"white\",\"ticks\":\"\"}},\"ternary\":{\"bgcolor\":\"#E5ECF6\",\"aaxis\":{\"gridcolor\":\"white\",\"linecolor\":\"white\",\"ticks\":\"\"},\"baxis\":{\"gridcolor\":\"white\",\"linecolor\":\"white\",\"ticks\":\"\"},\"caxis\":{\"gridcolor\":\"white\",\"linecolor\":\"white\",\"ticks\":\"\"}},\"coloraxis\":{\"colorbar\":{\"outlinewidth\":0,\"ticks\":\"\"}},\"colorscale\":{\"sequential\":[[0.0,\"#0d0887\"],[0.1111111111111111,\"#46039f\"],[0.2222222222222222,\"#7201a8\"],[0.3333333333333333,\"#9c179e\"],[0.4444444444444444,\"#bd3786\"],[0.5555555555555556,\"#d8576b\"],[0.6666666666666666,\"#ed7953\"],[0.7777777777777778,\"#fb9f3a\"],[0.8888888888888888,\"#fdca26\"],[1.0,\"#f0f921\"]],\"sequentialminus\":[[0.0,\"#0d0887\"],[0.1111111111111111,\"#46039f\"],[0.2222222222222222,\"#7201a8\"],[0.3333333333333333,\"#9c179e\"],[0.4444444444444444,\"#bd3786\"],[0.5555555555555556,\"#d8576b\"],[0.6666666666666666,\"#ed7953\"],[0.7777777777777778,\"#fb9f3a\"],[0.8888888888888888,\"#fdca26\"],[1.0,\"#f0f921\"]],\"diverging\":[[0,\"#8e0152\"],[0.1,\"#c51b7d\"],[0.2,\"#de77ae\"],[0.3,\"#f1b6da\"],[0.4,\"#fde0ef\"],[0.5,\"#f7f7f7\"],[0.6,\"#e6f5d0\"],[0.7,\"#b8e186\"],[0.8,\"#7fbc41\"],[0.9,\"#4d9221\"],[1,\"#276419\"]]},\"xaxis\":{\"gridcolor\":\"white\",\"linecolor\":\"white\",\"ticks\":\"\",\"title\":{\"standoff\":15},\"zerolinecolor\":\"white\",\"automargin\":true,\"zerolinewidth\":2},\"yaxis\":{\"gridcolor\":\"white\",\"linecolor\":\"white\",\"ticks\":\"\",\"title\":{\"standoff\":15},\"zerolinecolor\":\"white\",\"automargin\":true,\"zerolinewidth\":2},\"scene\":{\"xaxis\":{\"backgroundcolor\":\"#E5ECF6\",\"gridcolor\":\"white\",\"linecolor\":\"white\",\"showbackground\":true,\"ticks\":\"\",\"zerolinecolor\":\"white\",\"gridwidth\":2},\"yaxis\":{\"backgroundcolor\":\"#E5ECF6\",\"gridcolor\":\"white\",\"linecolor\":\"white\",\"showbackground\":true,\"ticks\":\"\",\"zerolinecolor\":\"white\",\"gridwidth\":2},\"zaxis\":{\"backgroundcolor\":\"#E5ECF6\",\"gridcolor\":\"white\",\"linecolor\":\"white\",\"showbackground\":true,\"ticks\":\"\",\"zerolinecolor\":\"white\",\"gridwidth\":2}},\"shapedefaults\":{\"line\":{\"color\":\"#2a3f5f\"}},\"annotationdefaults\":{\"arrowcolor\":\"#2a3f5f\",\"arrowhead\":0,\"arrowwidth\":1},\"geo\":{\"bgcolor\":\"white\",\"landcolor\":\"#E5ECF6\",\"subunitcolor\":\"white\",\"showland\":true,\"showlakes\":true,\"lakecolor\":\"white\"},\"title\":{\"x\":0.05},\"mapbox\":{\"style\":\"light\"}}},\"xaxis\":{\"anchor\":\"y\",\"domain\":[0.0,1.0],\"title\":{\"text\":\"Letter code\"},\"categoryorder\":\"total descending\"},\"yaxis\":{\"anchor\":\"x\",\"domain\":[0.0,1.0],\"title\":{\"text\":\"avg of 1990\"}},\"legend\":{\"title\":{\"text\":\"Industry\"},\"tracegroupgap\":0},\"margin\":{\"t\":60},\"barmode\":\"relative\"},                        {\"responsive\": true}                    ).then(function(){\n",
       "                            \n",
       "var gd = document.getElementById('f6d47e70-c8d0-4e52-a720-57f41001015a');\n",
       "var x = new MutationObserver(function (mutations, observer) {{\n",
       "        var display = window.getComputedStyle(gd).display;\n",
       "        if (!display || display === 'none') {{\n",
       "            console.log([gd, 'removed!']);\n",
       "            Plotly.purge(gd);\n",
       "            observer.disconnect();\n",
       "        }}\n",
       "}});\n",
       "\n",
       "// Listen for the removal of the full notebook cells\n",
       "var notebookContainer = gd.closest('#notebook-container');\n",
       "if (notebookContainer) {{\n",
       "    x.observe(notebookContainer, {childList: true});\n",
       "}}\n",
       "\n",
       "// Listen for the clearing of the current output cell\n",
       "var outputEl = gd.closest('.output');\n",
       "if (outputEl) {{\n",
       "    x.observe(outputEl, {childList: true});\n",
       "}}\n",
       "\n",
       "                        })                };                });            </script>        </div>"
      ]
     },
     "metadata": {},
     "output_type": "display_data"
    }
   ],
   "source": [
    "fig = px.histogram(ghg_indus_grp, x=\"Letter code\", y=1990, histfunc=\"avg\", color=\"Industry\")\n",
    "fig.update_layout(xaxis={\"categoryorder\": \"total descending\"})\n",
    "fig.show()"
   ]
  },
  {
   "cell_type": "code",
   "execution_count": null,
   "id": "22d50cdb",
   "metadata": {},
   "outputs": [],
   "source": []
  }
 ],
 "metadata": {
  "kernelspec": {
   "display_name": "Python 3 (ipykernel)",
   "language": "python",
   "name": "python3"
  },
  "language_info": {
   "codemirror_mode": {
    "name": "ipython",
    "version": 3
   },
   "file_extension": ".py",
   "mimetype": "text/x-python",
   "name": "python",
   "nbconvert_exporter": "python",
   "pygments_lexer": "ipython3",
   "version": "3.10.6"
  },
  "toc": {
   "base_numbering": 1,
   "nav_menu": {},
   "number_sections": true,
   "sideBar": true,
   "skip_h1_title": false,
   "title_cell": "Table of Contents",
   "title_sidebar": "Contents",
   "toc_cell": false,
   "toc_position": {},
   "toc_section_display": true,
   "toc_window_display": false
  }
 },
 "nbformat": 4,
 "nbformat_minor": 5
}
